{
  "nbformat": 4,
  "nbformat_minor": 0,
  "metadata": {
    "colab": {
      "provenance": [],
      "authorship_tag": "ABX9TyOBLiyV9s0+/JQyJNGWm2JF",
      "include_colab_link": true
    },
    "kernelspec": {
      "name": "python3",
      "display_name": "Python 3"
    },
    "language_info": {
      "name": "python"
    },
    "accelerator": "GPU",
    "gpuClass": "standard"
  },
  "cells": [
    {
      "cell_type": "markdown",
      "metadata": {
        "id": "view-in-github",
        "colab_type": "text"
      },
      "source": [
        "<a href=\"https://colab.research.google.com/github/leksandre/collaboration-neural-networks/blob/main/Untitled3.ipynb\" target=\"_parent\"><img src=\"https://colab.research.google.com/assets/colab-badge.svg\" alt=\"Open In Colab\"/></a>"
      ]
    },
    {
      "cell_type": "code",
      "execution_count": 106,
      "metadata": {
        "id": "5XnQtwOu0DdG"
      },
      "outputs": [],
      "source": [
        "import tensorflow as tf"
      ]
    },
    {
      "cell_type": "code",
      "source": [
        "import pandas as pd\n",
        "from google.colab import files\n",
        "file = files.upload()\n"
      ],
      "metadata": {
        "colab": {
          "base_uri": "https://localhost:8080/",
          "height": 73
        },
        "id": "PUemKnZX0nu0",
        "outputId": "ec9b79fa-6588-4cc0-d999-3b9092590770"
      },
      "execution_count": 107,
      "outputs": [
        {
          "output_type": "display_data",
          "data": {
            "text/plain": [
              "<IPython.core.display.HTML object>"
            ],
            "text/html": [
              "\n",
              "     <input type=\"file\" id=\"files-17859e76-203d-4d3a-84bc-dea0f75842c1\" name=\"files[]\" multiple disabled\n",
              "        style=\"border:none\" />\n",
              "     <output id=\"result-17859e76-203d-4d3a-84bc-dea0f75842c1\">\n",
              "      Upload widget is only available when the cell has been executed in the\n",
              "      current browser session. Please rerun this cell to enable.\n",
              "      </output>\n",
              "      <script>// Copyright 2017 Google LLC\n",
              "//\n",
              "// Licensed under the Apache License, Version 2.0 (the \"License\");\n",
              "// you may not use this file except in compliance with the License.\n",
              "// You may obtain a copy of the License at\n",
              "//\n",
              "//      http://www.apache.org/licenses/LICENSE-2.0\n",
              "//\n",
              "// Unless required by applicable law or agreed to in writing, software\n",
              "// distributed under the License is distributed on an \"AS IS\" BASIS,\n",
              "// WITHOUT WARRANTIES OR CONDITIONS OF ANY KIND, either express or implied.\n",
              "// See the License for the specific language governing permissions and\n",
              "// limitations under the License.\n",
              "\n",
              "/**\n",
              " * @fileoverview Helpers for google.colab Python module.\n",
              " */\n",
              "(function(scope) {\n",
              "function span(text, styleAttributes = {}) {\n",
              "  const element = document.createElement('span');\n",
              "  element.textContent = text;\n",
              "  for (const key of Object.keys(styleAttributes)) {\n",
              "    element.style[key] = styleAttributes[key];\n",
              "  }\n",
              "  return element;\n",
              "}\n",
              "\n",
              "// Max number of bytes which will be uploaded at a time.\n",
              "const MAX_PAYLOAD_SIZE = 100 * 1024;\n",
              "\n",
              "function _uploadFiles(inputId, outputId) {\n",
              "  const steps = uploadFilesStep(inputId, outputId);\n",
              "  const outputElement = document.getElementById(outputId);\n",
              "  // Cache steps on the outputElement to make it available for the next call\n",
              "  // to uploadFilesContinue from Python.\n",
              "  outputElement.steps = steps;\n",
              "\n",
              "  return _uploadFilesContinue(outputId);\n",
              "}\n",
              "\n",
              "// This is roughly an async generator (not supported in the browser yet),\n",
              "// where there are multiple asynchronous steps and the Python side is going\n",
              "// to poll for completion of each step.\n",
              "// This uses a Promise to block the python side on completion of each step,\n",
              "// then passes the result of the previous step as the input to the next step.\n",
              "function _uploadFilesContinue(outputId) {\n",
              "  const outputElement = document.getElementById(outputId);\n",
              "  const steps = outputElement.steps;\n",
              "\n",
              "  const next = steps.next(outputElement.lastPromiseValue);\n",
              "  return Promise.resolve(next.value.promise).then((value) => {\n",
              "    // Cache the last promise value to make it available to the next\n",
              "    // step of the generator.\n",
              "    outputElement.lastPromiseValue = value;\n",
              "    return next.value.response;\n",
              "  });\n",
              "}\n",
              "\n",
              "/**\n",
              " * Generator function which is called between each async step of the upload\n",
              " * process.\n",
              " * @param {string} inputId Element ID of the input file picker element.\n",
              " * @param {string} outputId Element ID of the output display.\n",
              " * @return {!Iterable<!Object>} Iterable of next steps.\n",
              " */\n",
              "function* uploadFilesStep(inputId, outputId) {\n",
              "  const inputElement = document.getElementById(inputId);\n",
              "  inputElement.disabled = false;\n",
              "\n",
              "  const outputElement = document.getElementById(outputId);\n",
              "  outputElement.innerHTML = '';\n",
              "\n",
              "  const pickedPromise = new Promise((resolve) => {\n",
              "    inputElement.addEventListener('change', (e) => {\n",
              "      resolve(e.target.files);\n",
              "    });\n",
              "  });\n",
              "\n",
              "  const cancel = document.createElement('button');\n",
              "  inputElement.parentElement.appendChild(cancel);\n",
              "  cancel.textContent = 'Cancel upload';\n",
              "  const cancelPromise = new Promise((resolve) => {\n",
              "    cancel.onclick = () => {\n",
              "      resolve(null);\n",
              "    };\n",
              "  });\n",
              "\n",
              "  // Wait for the user to pick the files.\n",
              "  const files = yield {\n",
              "    promise: Promise.race([pickedPromise, cancelPromise]),\n",
              "    response: {\n",
              "      action: 'starting',\n",
              "    }\n",
              "  };\n",
              "\n",
              "  cancel.remove();\n",
              "\n",
              "  // Disable the input element since further picks are not allowed.\n",
              "  inputElement.disabled = true;\n",
              "\n",
              "  if (!files) {\n",
              "    return {\n",
              "      response: {\n",
              "        action: 'complete',\n",
              "      }\n",
              "    };\n",
              "  }\n",
              "\n",
              "  for (const file of files) {\n",
              "    const li = document.createElement('li');\n",
              "    li.append(span(file.name, {fontWeight: 'bold'}));\n",
              "    li.append(span(\n",
              "        `(${file.type || 'n/a'}) - ${file.size} bytes, ` +\n",
              "        `last modified: ${\n",
              "            file.lastModifiedDate ? file.lastModifiedDate.toLocaleDateString() :\n",
              "                                    'n/a'} - `));\n",
              "    const percent = span('0% done');\n",
              "    li.appendChild(percent);\n",
              "\n",
              "    outputElement.appendChild(li);\n",
              "\n",
              "    const fileDataPromise = new Promise((resolve) => {\n",
              "      const reader = new FileReader();\n",
              "      reader.onload = (e) => {\n",
              "        resolve(e.target.result);\n",
              "      };\n",
              "      reader.readAsArrayBuffer(file);\n",
              "    });\n",
              "    // Wait for the data to be ready.\n",
              "    let fileData = yield {\n",
              "      promise: fileDataPromise,\n",
              "      response: {\n",
              "        action: 'continue',\n",
              "      }\n",
              "    };\n",
              "\n",
              "    // Use a chunked sending to avoid message size limits. See b/62115660.\n",
              "    let position = 0;\n",
              "    do {\n",
              "      const length = Math.min(fileData.byteLength - position, MAX_PAYLOAD_SIZE);\n",
              "      const chunk = new Uint8Array(fileData, position, length);\n",
              "      position += length;\n",
              "\n",
              "      const base64 = btoa(String.fromCharCode.apply(null, chunk));\n",
              "      yield {\n",
              "        response: {\n",
              "          action: 'append',\n",
              "          file: file.name,\n",
              "          data: base64,\n",
              "        },\n",
              "      };\n",
              "\n",
              "      let percentDone = fileData.byteLength === 0 ?\n",
              "          100 :\n",
              "          Math.round((position / fileData.byteLength) * 100);\n",
              "      percent.textContent = `${percentDone}% done`;\n",
              "\n",
              "    } while (position < fileData.byteLength);\n",
              "  }\n",
              "\n",
              "  // All done.\n",
              "  yield {\n",
              "    response: {\n",
              "      action: 'complete',\n",
              "    }\n",
              "  };\n",
              "}\n",
              "\n",
              "scope.google = scope.google || {};\n",
              "scope.google.colab = scope.google.colab || {};\n",
              "scope.google.colab._files = {\n",
              "  _uploadFiles,\n",
              "  _uploadFilesContinue,\n",
              "};\n",
              "})(self);\n",
              "</script> "
            ]
          },
          "metadata": {}
        },
        {
          "output_type": "stream",
          "name": "stdout",
          "text": [
            "Saving train.csv to train (3).csv\n"
          ]
        }
      ]
    },
    {
      "cell_type": "code",
      "source": [
        "training_set = pd.read_csv(\"train.csv\", header=0)"
      ],
      "metadata": {
        "id": "VLOdtMXw1QfF"
      },
      "execution_count": 303,
      "outputs": []
    },
    {
      "cell_type": "code",
      "source": [
        "training_set = training_set.dropna() "
      ],
      "metadata": {
        "id": "ahEzQ6wcPHYo"
      },
      "execution_count": 304,
      "outputs": []
    },
    {
      "cell_type": "code",
      "source": [
        "training_set.head(5)"
      ],
      "metadata": {
        "colab": {
          "base_uri": "https://localhost:8080/",
          "height": 206
        },
        "id": "laYL-ZK61kf8",
        "outputId": "0e65a01c-98be-4087-f024-9ab103a0e24b"
      },
      "execution_count": 305,
      "outputs": [
        {
          "output_type": "execute_result",
          "data": {
            "text/plain": [
              "     image_name  patient_id     sex  age_approx anatom_site_general_challenge  \\\n",
              "0  ISIC_0000000          -1  female        55.0                anterior torso   \n",
              "1  ISIC_0000001          -1  female        30.0                anterior torso   \n",
              "2  ISIC_0000002          -1  female        60.0               upper extremity   \n",
              "3  ISIC_0000003          -1    male        30.0               upper extremity   \n",
              "4  ISIC_0000004          -1    male        80.0               posterior torso   \n",
              "\n",
              "  diagnosis benign_malignant  target  tfrecord  width  height  \n",
              "0        NV           benign       0         4   1022     767  \n",
              "1        NV           benign       0        18   1022     767  \n",
              "2       MEL        malignant       1         0   1022     767  \n",
              "3        NV           benign       0        24   1022     767  \n",
              "4       MEL        malignant       1        14   1022     767  "
            ],
            "text/html": [
              "\n",
              "  <div id=\"df-062a5d83-32b2-4b7a-bccd-97b90bfed315\">\n",
              "    <div class=\"colab-df-container\">\n",
              "      <div>\n",
              "<style scoped>\n",
              "    .dataframe tbody tr th:only-of-type {\n",
              "        vertical-align: middle;\n",
              "    }\n",
              "\n",
              "    .dataframe tbody tr th {\n",
              "        vertical-align: top;\n",
              "    }\n",
              "\n",
              "    .dataframe thead th {\n",
              "        text-align: right;\n",
              "    }\n",
              "</style>\n",
              "<table border=\"1\" class=\"dataframe\">\n",
              "  <thead>\n",
              "    <tr style=\"text-align: right;\">\n",
              "      <th></th>\n",
              "      <th>image_name</th>\n",
              "      <th>patient_id</th>\n",
              "      <th>sex</th>\n",
              "      <th>age_approx</th>\n",
              "      <th>anatom_site_general_challenge</th>\n",
              "      <th>diagnosis</th>\n",
              "      <th>benign_malignant</th>\n",
              "      <th>target</th>\n",
              "      <th>tfrecord</th>\n",
              "      <th>width</th>\n",
              "      <th>height</th>\n",
              "    </tr>\n",
              "  </thead>\n",
              "  <tbody>\n",
              "    <tr>\n",
              "      <th>0</th>\n",
              "      <td>ISIC_0000000</td>\n",
              "      <td>-1</td>\n",
              "      <td>female</td>\n",
              "      <td>55.0</td>\n",
              "      <td>anterior torso</td>\n",
              "      <td>NV</td>\n",
              "      <td>benign</td>\n",
              "      <td>0</td>\n",
              "      <td>4</td>\n",
              "      <td>1022</td>\n",
              "      <td>767</td>\n",
              "    </tr>\n",
              "    <tr>\n",
              "      <th>1</th>\n",
              "      <td>ISIC_0000001</td>\n",
              "      <td>-1</td>\n",
              "      <td>female</td>\n",
              "      <td>30.0</td>\n",
              "      <td>anterior torso</td>\n",
              "      <td>NV</td>\n",
              "      <td>benign</td>\n",
              "      <td>0</td>\n",
              "      <td>18</td>\n",
              "      <td>1022</td>\n",
              "      <td>767</td>\n",
              "    </tr>\n",
              "    <tr>\n",
              "      <th>2</th>\n",
              "      <td>ISIC_0000002</td>\n",
              "      <td>-1</td>\n",
              "      <td>female</td>\n",
              "      <td>60.0</td>\n",
              "      <td>upper extremity</td>\n",
              "      <td>MEL</td>\n",
              "      <td>malignant</td>\n",
              "      <td>1</td>\n",
              "      <td>0</td>\n",
              "      <td>1022</td>\n",
              "      <td>767</td>\n",
              "    </tr>\n",
              "    <tr>\n",
              "      <th>3</th>\n",
              "      <td>ISIC_0000003</td>\n",
              "      <td>-1</td>\n",
              "      <td>male</td>\n",
              "      <td>30.0</td>\n",
              "      <td>upper extremity</td>\n",
              "      <td>NV</td>\n",
              "      <td>benign</td>\n",
              "      <td>0</td>\n",
              "      <td>24</td>\n",
              "      <td>1022</td>\n",
              "      <td>767</td>\n",
              "    </tr>\n",
              "    <tr>\n",
              "      <th>4</th>\n",
              "      <td>ISIC_0000004</td>\n",
              "      <td>-1</td>\n",
              "      <td>male</td>\n",
              "      <td>80.0</td>\n",
              "      <td>posterior torso</td>\n",
              "      <td>MEL</td>\n",
              "      <td>malignant</td>\n",
              "      <td>1</td>\n",
              "      <td>14</td>\n",
              "      <td>1022</td>\n",
              "      <td>767</td>\n",
              "    </tr>\n",
              "  </tbody>\n",
              "</table>\n",
              "</div>\n",
              "      <button class=\"colab-df-convert\" onclick=\"convertToInteractive('df-062a5d83-32b2-4b7a-bccd-97b90bfed315')\"\n",
              "              title=\"Convert this dataframe to an interactive table.\"\n",
              "              style=\"display:none;\">\n",
              "        \n",
              "  <svg xmlns=\"http://www.w3.org/2000/svg\" height=\"24px\"viewBox=\"0 0 24 24\"\n",
              "       width=\"24px\">\n",
              "    <path d=\"M0 0h24v24H0V0z\" fill=\"none\"/>\n",
              "    <path d=\"M18.56 5.44l.94 2.06.94-2.06 2.06-.94-2.06-.94-.94-2.06-.94 2.06-2.06.94zm-11 1L8.5 8.5l.94-2.06 2.06-.94-2.06-.94L8.5 2.5l-.94 2.06-2.06.94zm10 10l.94 2.06.94-2.06 2.06-.94-2.06-.94-.94-2.06-.94 2.06-2.06.94z\"/><path d=\"M17.41 7.96l-1.37-1.37c-.4-.4-.92-.59-1.43-.59-.52 0-1.04.2-1.43.59L10.3 9.45l-7.72 7.72c-.78.78-.78 2.05 0 2.83L4 21.41c.39.39.9.59 1.41.59.51 0 1.02-.2 1.41-.59l7.78-7.78 2.81-2.81c.8-.78.8-2.07 0-2.86zM5.41 20L4 18.59l7.72-7.72 1.47 1.35L5.41 20z\"/>\n",
              "  </svg>\n",
              "      </button>\n",
              "      \n",
              "  <style>\n",
              "    .colab-df-container {\n",
              "      display:flex;\n",
              "      flex-wrap:wrap;\n",
              "      gap: 12px;\n",
              "    }\n",
              "\n",
              "    .colab-df-convert {\n",
              "      background-color: #E8F0FE;\n",
              "      border: none;\n",
              "      border-radius: 50%;\n",
              "      cursor: pointer;\n",
              "      display: none;\n",
              "      fill: #1967D2;\n",
              "      height: 32px;\n",
              "      padding: 0 0 0 0;\n",
              "      width: 32px;\n",
              "    }\n",
              "\n",
              "    .colab-df-convert:hover {\n",
              "      background-color: #E2EBFA;\n",
              "      box-shadow: 0px 1px 2px rgba(60, 64, 67, 0.3), 0px 1px 3px 1px rgba(60, 64, 67, 0.15);\n",
              "      fill: #174EA6;\n",
              "    }\n",
              "\n",
              "    [theme=dark] .colab-df-convert {\n",
              "      background-color: #3B4455;\n",
              "      fill: #D2E3FC;\n",
              "    }\n",
              "\n",
              "    [theme=dark] .colab-df-convert:hover {\n",
              "      background-color: #434B5C;\n",
              "      box-shadow: 0px 1px 3px 1px rgba(0, 0, 0, 0.15);\n",
              "      filter: drop-shadow(0px 1px 2px rgba(0, 0, 0, 0.3));\n",
              "      fill: #FFFFFF;\n",
              "    }\n",
              "  </style>\n",
              "\n",
              "      <script>\n",
              "        const buttonEl =\n",
              "          document.querySelector('#df-062a5d83-32b2-4b7a-bccd-97b90bfed315 button.colab-df-convert');\n",
              "        buttonEl.style.display =\n",
              "          google.colab.kernel.accessAllowed ? 'block' : 'none';\n",
              "\n",
              "        async function convertToInteractive(key) {\n",
              "          const element = document.querySelector('#df-062a5d83-32b2-4b7a-bccd-97b90bfed315');\n",
              "          const dataTable =\n",
              "            await google.colab.kernel.invokeFunction('convertToInteractive',\n",
              "                                                     [key], {});\n",
              "          if (!dataTable) return;\n",
              "\n",
              "          const docLinkHtml = 'Like what you see? Visit the ' +\n",
              "            '<a target=\"_blank\" href=https://colab.research.google.com/notebooks/data_table.ipynb>data table notebook</a>'\n",
              "            + ' to learn more about interactive tables.';\n",
              "          element.innerHTML = '';\n",
              "          dataTable['output_type'] = 'display_data';\n",
              "          await google.colab.output.renderOutput(dataTable, element);\n",
              "          const docLink = document.createElement('div');\n",
              "          docLink.innerHTML = docLinkHtml;\n",
              "          element.appendChild(docLink);\n",
              "        }\n",
              "      </script>\n",
              "    </div>\n",
              "  </div>\n",
              "  "
            ]
          },
          "metadata": {},
          "execution_count": 305
        }
      ]
    },
    {
      "cell_type": "code",
      "source": [
        "training_set.tail(5)"
      ],
      "metadata": {
        "colab": {
          "base_uri": "https://localhost:8080/",
          "height": 206
        },
        "id": "rmHEjqj1_Lcz",
        "outputId": "d80c54cc-bb0a-4f57-f35d-7dd91ee01304"
      },
      "execution_count": 306,
      "outputs": [
        {
          "output_type": "execute_result",
          "data": {
            "text/plain": [
              "         image_name  patient_id     sex  age_approx  \\\n",
              "25326  ISIC_0073247          -1  female        85.0   \n",
              "25327  ISIC_0073248          -1    male        65.0   \n",
              "25328  ISIC_0073249          -1    male        70.0   \n",
              "25329  ISIC_0073251          -1  female        55.0   \n",
              "25330  ISIC_0073254          -1    male        50.0   \n",
              "\n",
              "      anatom_site_general_challenge diagnosis benign_malignant  target  \\\n",
              "25326                     head/neck       BCC           benign       0   \n",
              "25327                anterior torso       BKL           benign       0   \n",
              "25328               lower extremity       MEL        malignant       1   \n",
              "25329                   palms/soles        NV           benign       0   \n",
              "25330               upper extremity       BKL           benign       0   \n",
              "\n",
              "       tfrecord  width  height  \n",
              "25326        19   1024    1024  \n",
              "25327         7   1024    1024  \n",
              "25328         9   1024    1024  \n",
              "25329        15   1024    1024  \n",
              "25330        23   1024    1024  "
            ],
            "text/html": [
              "\n",
              "  <div id=\"df-f750d080-8b67-41ff-a8bc-276bf1f51771\">\n",
              "    <div class=\"colab-df-container\">\n",
              "      <div>\n",
              "<style scoped>\n",
              "    .dataframe tbody tr th:only-of-type {\n",
              "        vertical-align: middle;\n",
              "    }\n",
              "\n",
              "    .dataframe tbody tr th {\n",
              "        vertical-align: top;\n",
              "    }\n",
              "\n",
              "    .dataframe thead th {\n",
              "        text-align: right;\n",
              "    }\n",
              "</style>\n",
              "<table border=\"1\" class=\"dataframe\">\n",
              "  <thead>\n",
              "    <tr style=\"text-align: right;\">\n",
              "      <th></th>\n",
              "      <th>image_name</th>\n",
              "      <th>patient_id</th>\n",
              "      <th>sex</th>\n",
              "      <th>age_approx</th>\n",
              "      <th>anatom_site_general_challenge</th>\n",
              "      <th>diagnosis</th>\n",
              "      <th>benign_malignant</th>\n",
              "      <th>target</th>\n",
              "      <th>tfrecord</th>\n",
              "      <th>width</th>\n",
              "      <th>height</th>\n",
              "    </tr>\n",
              "  </thead>\n",
              "  <tbody>\n",
              "    <tr>\n",
              "      <th>25326</th>\n",
              "      <td>ISIC_0073247</td>\n",
              "      <td>-1</td>\n",
              "      <td>female</td>\n",
              "      <td>85.0</td>\n",
              "      <td>head/neck</td>\n",
              "      <td>BCC</td>\n",
              "      <td>benign</td>\n",
              "      <td>0</td>\n",
              "      <td>19</td>\n",
              "      <td>1024</td>\n",
              "      <td>1024</td>\n",
              "    </tr>\n",
              "    <tr>\n",
              "      <th>25327</th>\n",
              "      <td>ISIC_0073248</td>\n",
              "      <td>-1</td>\n",
              "      <td>male</td>\n",
              "      <td>65.0</td>\n",
              "      <td>anterior torso</td>\n",
              "      <td>BKL</td>\n",
              "      <td>benign</td>\n",
              "      <td>0</td>\n",
              "      <td>7</td>\n",
              "      <td>1024</td>\n",
              "      <td>1024</td>\n",
              "    </tr>\n",
              "    <tr>\n",
              "      <th>25328</th>\n",
              "      <td>ISIC_0073249</td>\n",
              "      <td>-1</td>\n",
              "      <td>male</td>\n",
              "      <td>70.0</td>\n",
              "      <td>lower extremity</td>\n",
              "      <td>MEL</td>\n",
              "      <td>malignant</td>\n",
              "      <td>1</td>\n",
              "      <td>9</td>\n",
              "      <td>1024</td>\n",
              "      <td>1024</td>\n",
              "    </tr>\n",
              "    <tr>\n",
              "      <th>25329</th>\n",
              "      <td>ISIC_0073251</td>\n",
              "      <td>-1</td>\n",
              "      <td>female</td>\n",
              "      <td>55.0</td>\n",
              "      <td>palms/soles</td>\n",
              "      <td>NV</td>\n",
              "      <td>benign</td>\n",
              "      <td>0</td>\n",
              "      <td>15</td>\n",
              "      <td>1024</td>\n",
              "      <td>1024</td>\n",
              "    </tr>\n",
              "    <tr>\n",
              "      <th>25330</th>\n",
              "      <td>ISIC_0073254</td>\n",
              "      <td>-1</td>\n",
              "      <td>male</td>\n",
              "      <td>50.0</td>\n",
              "      <td>upper extremity</td>\n",
              "      <td>BKL</td>\n",
              "      <td>benign</td>\n",
              "      <td>0</td>\n",
              "      <td>23</td>\n",
              "      <td>1024</td>\n",
              "      <td>1024</td>\n",
              "    </tr>\n",
              "  </tbody>\n",
              "</table>\n",
              "</div>\n",
              "      <button class=\"colab-df-convert\" onclick=\"convertToInteractive('df-f750d080-8b67-41ff-a8bc-276bf1f51771')\"\n",
              "              title=\"Convert this dataframe to an interactive table.\"\n",
              "              style=\"display:none;\">\n",
              "        \n",
              "  <svg xmlns=\"http://www.w3.org/2000/svg\" height=\"24px\"viewBox=\"0 0 24 24\"\n",
              "       width=\"24px\">\n",
              "    <path d=\"M0 0h24v24H0V0z\" fill=\"none\"/>\n",
              "    <path d=\"M18.56 5.44l.94 2.06.94-2.06 2.06-.94-2.06-.94-.94-2.06-.94 2.06-2.06.94zm-11 1L8.5 8.5l.94-2.06 2.06-.94-2.06-.94L8.5 2.5l-.94 2.06-2.06.94zm10 10l.94 2.06.94-2.06 2.06-.94-2.06-.94-.94-2.06-.94 2.06-2.06.94z\"/><path d=\"M17.41 7.96l-1.37-1.37c-.4-.4-.92-.59-1.43-.59-.52 0-1.04.2-1.43.59L10.3 9.45l-7.72 7.72c-.78.78-.78 2.05 0 2.83L4 21.41c.39.39.9.59 1.41.59.51 0 1.02-.2 1.41-.59l7.78-7.78 2.81-2.81c.8-.78.8-2.07 0-2.86zM5.41 20L4 18.59l7.72-7.72 1.47 1.35L5.41 20z\"/>\n",
              "  </svg>\n",
              "      </button>\n",
              "      \n",
              "  <style>\n",
              "    .colab-df-container {\n",
              "      display:flex;\n",
              "      flex-wrap:wrap;\n",
              "      gap: 12px;\n",
              "    }\n",
              "\n",
              "    .colab-df-convert {\n",
              "      background-color: #E8F0FE;\n",
              "      border: none;\n",
              "      border-radius: 50%;\n",
              "      cursor: pointer;\n",
              "      display: none;\n",
              "      fill: #1967D2;\n",
              "      height: 32px;\n",
              "      padding: 0 0 0 0;\n",
              "      width: 32px;\n",
              "    }\n",
              "\n",
              "    .colab-df-convert:hover {\n",
              "      background-color: #E2EBFA;\n",
              "      box-shadow: 0px 1px 2px rgba(60, 64, 67, 0.3), 0px 1px 3px 1px rgba(60, 64, 67, 0.15);\n",
              "      fill: #174EA6;\n",
              "    }\n",
              "\n",
              "    [theme=dark] .colab-df-convert {\n",
              "      background-color: #3B4455;\n",
              "      fill: #D2E3FC;\n",
              "    }\n",
              "\n",
              "    [theme=dark] .colab-df-convert:hover {\n",
              "      background-color: #434B5C;\n",
              "      box-shadow: 0px 1px 3px 1px rgba(0, 0, 0, 0.15);\n",
              "      filter: drop-shadow(0px 1px 2px rgba(0, 0, 0, 0.3));\n",
              "      fill: #FFFFFF;\n",
              "    }\n",
              "  </style>\n",
              "\n",
              "      <script>\n",
              "        const buttonEl =\n",
              "          document.querySelector('#df-f750d080-8b67-41ff-a8bc-276bf1f51771 button.colab-df-convert');\n",
              "        buttonEl.style.display =\n",
              "          google.colab.kernel.accessAllowed ? 'block' : 'none';\n",
              "\n",
              "        async function convertToInteractive(key) {\n",
              "          const element = document.querySelector('#df-f750d080-8b67-41ff-a8bc-276bf1f51771');\n",
              "          const dataTable =\n",
              "            await google.colab.kernel.invokeFunction('convertToInteractive',\n",
              "                                                     [key], {});\n",
              "          if (!dataTable) return;\n",
              "\n",
              "          const docLinkHtml = 'Like what you see? Visit the ' +\n",
              "            '<a target=\"_blank\" href=https://colab.research.google.com/notebooks/data_table.ipynb>data table notebook</a>'\n",
              "            + ' to learn more about interactive tables.';\n",
              "          element.innerHTML = '';\n",
              "          dataTable['output_type'] = 'display_data';\n",
              "          await google.colab.output.renderOutput(dataTable, element);\n",
              "          const docLink = document.createElement('div');\n",
              "          docLink.innerHTML = docLinkHtml;\n",
              "          element.appendChild(docLink);\n",
              "        }\n",
              "      </script>\n",
              "    </div>\n",
              "  </div>\n",
              "  "
            ]
          },
          "metadata": {},
          "execution_count": 306
        }
      ]
    },
    {
      "cell_type": "code",
      "source": [
        "training_set.diagnosis.unique()"
      ],
      "metadata": {
        "colab": {
          "base_uri": "https://localhost:8080/"
        },
        "id": "a_n76-39TvTx",
        "outputId": "1524cad5-a79d-4579-bf6a-a7af1c205801"
      },
      "execution_count": 307,
      "outputs": [
        {
          "output_type": "execute_result",
          "data": {
            "text/plain": [
              "array(['NV', 'MEL', 'BKL', 'DF', 'SCC', 'BCC', 'VASC', 'AK'], dtype=object)"
            ]
          },
          "metadata": {},
          "execution_count": 307
        }
      ]
    },
    {
      "cell_type": "code",
      "source": [
        "training_set.benign_malignant.unique()"
      ],
      "metadata": {
        "colab": {
          "base_uri": "https://localhost:8080/"
        },
        "id": "eP1EaRCMTwqC",
        "outputId": "726a6d1a-087c-4242-c267-643db075ca5a"
      },
      "execution_count": 308,
      "outputs": [
        {
          "output_type": "execute_result",
          "data": {
            "text/plain": [
              "array(['benign', 'malignant'], dtype=object)"
            ]
          },
          "metadata": {},
          "execution_count": 308
        }
      ]
    },
    {
      "cell_type": "code",
      "source": [
        "#удаляем колонки котоыре  по  нашему мнению не влияют на результат\n",
        "training_set.pop('image_name')\n",
        "#training_set.pop('diagnosis')\n",
        "training_set.pop('benign_malignant')\n",
        "training_set.pop('height')\n",
        "training_set.pop('width')\n",
        "training_set.pop('patient_id')\n",
        "#training_set.pop('tfrecord')\n"
      ],
      "metadata": {
        "colab": {
          "base_uri": "https://localhost:8080/"
        },
        "id": "0ZDIxZei_GTa",
        "outputId": "0ed8649c-4b92-4f87-acbb-3e52b2e7ab63"
      },
      "execution_count": 309,
      "outputs": [
        {
          "output_type": "execute_result",
          "data": {
            "text/plain": [
              "0       -1\n",
              "1       -1\n",
              "2       -1\n",
              "3       -1\n",
              "4       -1\n",
              "        ..\n",
              "25326   -1\n",
              "25327   -1\n",
              "25328   -1\n",
              "25329   -1\n",
              "25330   -1\n",
              "Name: patient_id, Length: 22480, dtype: int64"
            ]
          },
          "metadata": {},
          "execution_count": 309
        }
      ]
    },
    {
      "cell_type": "code",
      "source": [
        "#проверяем\n",
        "training_set.tail(5)"
      ],
      "metadata": {
        "colab": {
          "base_uri": "https://localhost:8080/",
          "height": 206
        },
        "id": "p5QNii4ZACqS",
        "outputId": "8f7c8d68-f4e4-4307-ea81-074985f69299"
      },
      "execution_count": 310,
      "outputs": [
        {
          "output_type": "execute_result",
          "data": {
            "text/plain": [
              "          sex  age_approx anatom_site_general_challenge diagnosis  target  \\\n",
              "25326  female        85.0                     head/neck       BCC       0   \n",
              "25327    male        65.0                anterior torso       BKL       0   \n",
              "25328    male        70.0               lower extremity       MEL       1   \n",
              "25329  female        55.0                   palms/soles        NV       0   \n",
              "25330    male        50.0               upper extremity       BKL       0   \n",
              "\n",
              "       tfrecord  \n",
              "25326        19  \n",
              "25327         7  \n",
              "25328         9  \n",
              "25329        15  \n",
              "25330        23  "
            ],
            "text/html": [
              "\n",
              "  <div id=\"df-18c333af-0eb9-408c-9707-330589ff7dfe\">\n",
              "    <div class=\"colab-df-container\">\n",
              "      <div>\n",
              "<style scoped>\n",
              "    .dataframe tbody tr th:only-of-type {\n",
              "        vertical-align: middle;\n",
              "    }\n",
              "\n",
              "    .dataframe tbody tr th {\n",
              "        vertical-align: top;\n",
              "    }\n",
              "\n",
              "    .dataframe thead th {\n",
              "        text-align: right;\n",
              "    }\n",
              "</style>\n",
              "<table border=\"1\" class=\"dataframe\">\n",
              "  <thead>\n",
              "    <tr style=\"text-align: right;\">\n",
              "      <th></th>\n",
              "      <th>sex</th>\n",
              "      <th>age_approx</th>\n",
              "      <th>anatom_site_general_challenge</th>\n",
              "      <th>diagnosis</th>\n",
              "      <th>target</th>\n",
              "      <th>tfrecord</th>\n",
              "    </tr>\n",
              "  </thead>\n",
              "  <tbody>\n",
              "    <tr>\n",
              "      <th>25326</th>\n",
              "      <td>female</td>\n",
              "      <td>85.0</td>\n",
              "      <td>head/neck</td>\n",
              "      <td>BCC</td>\n",
              "      <td>0</td>\n",
              "      <td>19</td>\n",
              "    </tr>\n",
              "    <tr>\n",
              "      <th>25327</th>\n",
              "      <td>male</td>\n",
              "      <td>65.0</td>\n",
              "      <td>anterior torso</td>\n",
              "      <td>BKL</td>\n",
              "      <td>0</td>\n",
              "      <td>7</td>\n",
              "    </tr>\n",
              "    <tr>\n",
              "      <th>25328</th>\n",
              "      <td>male</td>\n",
              "      <td>70.0</td>\n",
              "      <td>lower extremity</td>\n",
              "      <td>MEL</td>\n",
              "      <td>1</td>\n",
              "      <td>9</td>\n",
              "    </tr>\n",
              "    <tr>\n",
              "      <th>25329</th>\n",
              "      <td>female</td>\n",
              "      <td>55.0</td>\n",
              "      <td>palms/soles</td>\n",
              "      <td>NV</td>\n",
              "      <td>0</td>\n",
              "      <td>15</td>\n",
              "    </tr>\n",
              "    <tr>\n",
              "      <th>25330</th>\n",
              "      <td>male</td>\n",
              "      <td>50.0</td>\n",
              "      <td>upper extremity</td>\n",
              "      <td>BKL</td>\n",
              "      <td>0</td>\n",
              "      <td>23</td>\n",
              "    </tr>\n",
              "  </tbody>\n",
              "</table>\n",
              "</div>\n",
              "      <button class=\"colab-df-convert\" onclick=\"convertToInteractive('df-18c333af-0eb9-408c-9707-330589ff7dfe')\"\n",
              "              title=\"Convert this dataframe to an interactive table.\"\n",
              "              style=\"display:none;\">\n",
              "        \n",
              "  <svg xmlns=\"http://www.w3.org/2000/svg\" height=\"24px\"viewBox=\"0 0 24 24\"\n",
              "       width=\"24px\">\n",
              "    <path d=\"M0 0h24v24H0V0z\" fill=\"none\"/>\n",
              "    <path d=\"M18.56 5.44l.94 2.06.94-2.06 2.06-.94-2.06-.94-.94-2.06-.94 2.06-2.06.94zm-11 1L8.5 8.5l.94-2.06 2.06-.94-2.06-.94L8.5 2.5l-.94 2.06-2.06.94zm10 10l.94 2.06.94-2.06 2.06-.94-2.06-.94-.94-2.06-.94 2.06-2.06.94z\"/><path d=\"M17.41 7.96l-1.37-1.37c-.4-.4-.92-.59-1.43-.59-.52 0-1.04.2-1.43.59L10.3 9.45l-7.72 7.72c-.78.78-.78 2.05 0 2.83L4 21.41c.39.39.9.59 1.41.59.51 0 1.02-.2 1.41-.59l7.78-7.78 2.81-2.81c.8-.78.8-2.07 0-2.86zM5.41 20L4 18.59l7.72-7.72 1.47 1.35L5.41 20z\"/>\n",
              "  </svg>\n",
              "      </button>\n",
              "      \n",
              "  <style>\n",
              "    .colab-df-container {\n",
              "      display:flex;\n",
              "      flex-wrap:wrap;\n",
              "      gap: 12px;\n",
              "    }\n",
              "\n",
              "    .colab-df-convert {\n",
              "      background-color: #E8F0FE;\n",
              "      border: none;\n",
              "      border-radius: 50%;\n",
              "      cursor: pointer;\n",
              "      display: none;\n",
              "      fill: #1967D2;\n",
              "      height: 32px;\n",
              "      padding: 0 0 0 0;\n",
              "      width: 32px;\n",
              "    }\n",
              "\n",
              "    .colab-df-convert:hover {\n",
              "      background-color: #E2EBFA;\n",
              "      box-shadow: 0px 1px 2px rgba(60, 64, 67, 0.3), 0px 1px 3px 1px rgba(60, 64, 67, 0.15);\n",
              "      fill: #174EA6;\n",
              "    }\n",
              "\n",
              "    [theme=dark] .colab-df-convert {\n",
              "      background-color: #3B4455;\n",
              "      fill: #D2E3FC;\n",
              "    }\n",
              "\n",
              "    [theme=dark] .colab-df-convert:hover {\n",
              "      background-color: #434B5C;\n",
              "      box-shadow: 0px 1px 3px 1px rgba(0, 0, 0, 0.15);\n",
              "      filter: drop-shadow(0px 1px 2px rgba(0, 0, 0, 0.3));\n",
              "      fill: #FFFFFF;\n",
              "    }\n",
              "  </style>\n",
              "\n",
              "      <script>\n",
              "        const buttonEl =\n",
              "          document.querySelector('#df-18c333af-0eb9-408c-9707-330589ff7dfe button.colab-df-convert');\n",
              "        buttonEl.style.display =\n",
              "          google.colab.kernel.accessAllowed ? 'block' : 'none';\n",
              "\n",
              "        async function convertToInteractive(key) {\n",
              "          const element = document.querySelector('#df-18c333af-0eb9-408c-9707-330589ff7dfe');\n",
              "          const dataTable =\n",
              "            await google.colab.kernel.invokeFunction('convertToInteractive',\n",
              "                                                     [key], {});\n",
              "          if (!dataTable) return;\n",
              "\n",
              "          const docLinkHtml = 'Like what you see? Visit the ' +\n",
              "            '<a target=\"_blank\" href=https://colab.research.google.com/notebooks/data_table.ipynb>data table notebook</a>'\n",
              "            + ' to learn more about interactive tables.';\n",
              "          element.innerHTML = '';\n",
              "          dataTable['output_type'] = 'display_data';\n",
              "          await google.colab.output.renderOutput(dataTable, element);\n",
              "          const docLink = document.createElement('div');\n",
              "          docLink.innerHTML = docLinkHtml;\n",
              "          element.appendChild(docLink);\n",
              "        }\n",
              "      </script>\n",
              "    </div>\n",
              "  </div>\n",
              "  "
            ]
          },
          "metadata": {},
          "execution_count": 310
        }
      ]
    },
    {
      "cell_type": "code",
      "source": [
        "training_set.isna().sum() "
      ],
      "metadata": {
        "colab": {
          "base_uri": "https://localhost:8080/"
        },
        "id": "vEfc-83lPrhI",
        "outputId": "64dc2bf5-7a86-4097-af4f-70b690077b01"
      },
      "execution_count": 311,
      "outputs": [
        {
          "output_type": "execute_result",
          "data": {
            "text/plain": [
              "sex                              0\n",
              "age_approx                       0\n",
              "anatom_site_general_challenge    0\n",
              "diagnosis                        0\n",
              "target                           0\n",
              "tfrecord                         0\n",
              "dtype: int64"
            ]
          },
          "metadata": {},
          "execution_count": 311
        }
      ]
    },
    {
      "cell_type": "code",
      "source": [
        "training_set['age_approx'] = training_set['age_approx'].astype (float)\n",
        "training_set.dtypes"
      ],
      "metadata": {
        "colab": {
          "base_uri": "https://localhost:8080/"
        },
        "id": "ChlebENEFkP5",
        "outputId": "5da4190c-367f-4ba8-e9d1-4fa668f75986"
      },
      "execution_count": 312,
      "outputs": [
        {
          "output_type": "stream",
          "name": "stderr",
          "text": [
            "<ipython-input-312-1dbf6d5328ee>:1: SettingWithCopyWarning: \n",
            "A value is trying to be set on a copy of a slice from a DataFrame.\n",
            "Try using .loc[row_indexer,col_indexer] = value instead\n",
            "\n",
            "See the caveats in the documentation: https://pandas.pydata.org/pandas-docs/stable/user_guide/indexing.html#returning-a-view-versus-a-copy\n",
            "  training_set['age_approx'] = training_set['age_approx'].astype (float)\n"
          ]
        },
        {
          "output_type": "execute_result",
          "data": {
            "text/plain": [
              "sex                               object\n",
              "age_approx                       float64\n",
              "anatom_site_general_challenge     object\n",
              "diagnosis                         object\n",
              "target                             int64\n",
              "tfrecord                           int64\n",
              "dtype: object"
            ]
          },
          "metadata": {},
          "execution_count": 312
        }
      ]
    },
    {
      "cell_type": "code",
      "source": [
        "level_map = { 'female':1,  'male':0}\n",
        "training_set['sex'] = training_set['sex'].map(level_map)\n"
      ],
      "metadata": {
        "id": "no03ujdcCyhv",
        "colab": {
          "base_uri": "https://localhost:8080/"
        },
        "outputId": "6eac4d8e-fc01-4e4f-f39e-7f0e3a0fd0de"
      },
      "execution_count": 313,
      "outputs": [
        {
          "output_type": "stream",
          "name": "stderr",
          "text": [
            "<ipython-input-313-05d496284532>:2: SettingWithCopyWarning: \n",
            "A value is trying to be set on a copy of a slice from a DataFrame.\n",
            "Try using .loc[row_indexer,col_indexer] = value instead\n",
            "\n",
            "See the caveats in the documentation: https://pandas.pydata.org/pandas-docs/stable/user_guide/indexing.html#returning-a-view-versus-a-copy\n",
            "  training_set['sex'] = training_set['sex'].map(level_map)\n"
          ]
        }
      ]
    },
    {
      "cell_type": "code",
      "source": [
        "training_set.tail(5)"
      ],
      "metadata": {
        "colab": {
          "base_uri": "https://localhost:8080/",
          "height": 206
        },
        "id": "uju8OoyJGBmf",
        "outputId": "dcadbb80-f797-45ab-b175-95213654033c"
      },
      "execution_count": 314,
      "outputs": [
        {
          "output_type": "execute_result",
          "data": {
            "text/plain": [
              "       sex  age_approx anatom_site_general_challenge diagnosis  target  \\\n",
              "25326    1        85.0                     head/neck       BCC       0   \n",
              "25327    0        65.0                anterior torso       BKL       0   \n",
              "25328    0        70.0               lower extremity       MEL       1   \n",
              "25329    1        55.0                   palms/soles        NV       0   \n",
              "25330    0        50.0               upper extremity       BKL       0   \n",
              "\n",
              "       tfrecord  \n",
              "25326        19  \n",
              "25327         7  \n",
              "25328         9  \n",
              "25329        15  \n",
              "25330        23  "
            ],
            "text/html": [
              "\n",
              "  <div id=\"df-3c9a9d27-2a4b-4c53-bc88-2c43ca77152e\">\n",
              "    <div class=\"colab-df-container\">\n",
              "      <div>\n",
              "<style scoped>\n",
              "    .dataframe tbody tr th:only-of-type {\n",
              "        vertical-align: middle;\n",
              "    }\n",
              "\n",
              "    .dataframe tbody tr th {\n",
              "        vertical-align: top;\n",
              "    }\n",
              "\n",
              "    .dataframe thead th {\n",
              "        text-align: right;\n",
              "    }\n",
              "</style>\n",
              "<table border=\"1\" class=\"dataframe\">\n",
              "  <thead>\n",
              "    <tr style=\"text-align: right;\">\n",
              "      <th></th>\n",
              "      <th>sex</th>\n",
              "      <th>age_approx</th>\n",
              "      <th>anatom_site_general_challenge</th>\n",
              "      <th>diagnosis</th>\n",
              "      <th>target</th>\n",
              "      <th>tfrecord</th>\n",
              "    </tr>\n",
              "  </thead>\n",
              "  <tbody>\n",
              "    <tr>\n",
              "      <th>25326</th>\n",
              "      <td>1</td>\n",
              "      <td>85.0</td>\n",
              "      <td>head/neck</td>\n",
              "      <td>BCC</td>\n",
              "      <td>0</td>\n",
              "      <td>19</td>\n",
              "    </tr>\n",
              "    <tr>\n",
              "      <th>25327</th>\n",
              "      <td>0</td>\n",
              "      <td>65.0</td>\n",
              "      <td>anterior torso</td>\n",
              "      <td>BKL</td>\n",
              "      <td>0</td>\n",
              "      <td>7</td>\n",
              "    </tr>\n",
              "    <tr>\n",
              "      <th>25328</th>\n",
              "      <td>0</td>\n",
              "      <td>70.0</td>\n",
              "      <td>lower extremity</td>\n",
              "      <td>MEL</td>\n",
              "      <td>1</td>\n",
              "      <td>9</td>\n",
              "    </tr>\n",
              "    <tr>\n",
              "      <th>25329</th>\n",
              "      <td>1</td>\n",
              "      <td>55.0</td>\n",
              "      <td>palms/soles</td>\n",
              "      <td>NV</td>\n",
              "      <td>0</td>\n",
              "      <td>15</td>\n",
              "    </tr>\n",
              "    <tr>\n",
              "      <th>25330</th>\n",
              "      <td>0</td>\n",
              "      <td>50.0</td>\n",
              "      <td>upper extremity</td>\n",
              "      <td>BKL</td>\n",
              "      <td>0</td>\n",
              "      <td>23</td>\n",
              "    </tr>\n",
              "  </tbody>\n",
              "</table>\n",
              "</div>\n",
              "      <button class=\"colab-df-convert\" onclick=\"convertToInteractive('df-3c9a9d27-2a4b-4c53-bc88-2c43ca77152e')\"\n",
              "              title=\"Convert this dataframe to an interactive table.\"\n",
              "              style=\"display:none;\">\n",
              "        \n",
              "  <svg xmlns=\"http://www.w3.org/2000/svg\" height=\"24px\"viewBox=\"0 0 24 24\"\n",
              "       width=\"24px\">\n",
              "    <path d=\"M0 0h24v24H0V0z\" fill=\"none\"/>\n",
              "    <path d=\"M18.56 5.44l.94 2.06.94-2.06 2.06-.94-2.06-.94-.94-2.06-.94 2.06-2.06.94zm-11 1L8.5 8.5l.94-2.06 2.06-.94-2.06-.94L8.5 2.5l-.94 2.06-2.06.94zm10 10l.94 2.06.94-2.06 2.06-.94-2.06-.94-.94-2.06-.94 2.06-2.06.94z\"/><path d=\"M17.41 7.96l-1.37-1.37c-.4-.4-.92-.59-1.43-.59-.52 0-1.04.2-1.43.59L10.3 9.45l-7.72 7.72c-.78.78-.78 2.05 0 2.83L4 21.41c.39.39.9.59 1.41.59.51 0 1.02-.2 1.41-.59l7.78-7.78 2.81-2.81c.8-.78.8-2.07 0-2.86zM5.41 20L4 18.59l7.72-7.72 1.47 1.35L5.41 20z\"/>\n",
              "  </svg>\n",
              "      </button>\n",
              "      \n",
              "  <style>\n",
              "    .colab-df-container {\n",
              "      display:flex;\n",
              "      flex-wrap:wrap;\n",
              "      gap: 12px;\n",
              "    }\n",
              "\n",
              "    .colab-df-convert {\n",
              "      background-color: #E8F0FE;\n",
              "      border: none;\n",
              "      border-radius: 50%;\n",
              "      cursor: pointer;\n",
              "      display: none;\n",
              "      fill: #1967D2;\n",
              "      height: 32px;\n",
              "      padding: 0 0 0 0;\n",
              "      width: 32px;\n",
              "    }\n",
              "\n",
              "    .colab-df-convert:hover {\n",
              "      background-color: #E2EBFA;\n",
              "      box-shadow: 0px 1px 2px rgba(60, 64, 67, 0.3), 0px 1px 3px 1px rgba(60, 64, 67, 0.15);\n",
              "      fill: #174EA6;\n",
              "    }\n",
              "\n",
              "    [theme=dark] .colab-df-convert {\n",
              "      background-color: #3B4455;\n",
              "      fill: #D2E3FC;\n",
              "    }\n",
              "\n",
              "    [theme=dark] .colab-df-convert:hover {\n",
              "      background-color: #434B5C;\n",
              "      box-shadow: 0px 1px 3px 1px rgba(0, 0, 0, 0.15);\n",
              "      filter: drop-shadow(0px 1px 2px rgba(0, 0, 0, 0.3));\n",
              "      fill: #FFFFFF;\n",
              "    }\n",
              "  </style>\n",
              "\n",
              "      <script>\n",
              "        const buttonEl =\n",
              "          document.querySelector('#df-3c9a9d27-2a4b-4c53-bc88-2c43ca77152e button.colab-df-convert');\n",
              "        buttonEl.style.display =\n",
              "          google.colab.kernel.accessAllowed ? 'block' : 'none';\n",
              "\n",
              "        async function convertToInteractive(key) {\n",
              "          const element = document.querySelector('#df-3c9a9d27-2a4b-4c53-bc88-2c43ca77152e');\n",
              "          const dataTable =\n",
              "            await google.colab.kernel.invokeFunction('convertToInteractive',\n",
              "                                                     [key], {});\n",
              "          if (!dataTable) return;\n",
              "\n",
              "          const docLinkHtml = 'Like what you see? Visit the ' +\n",
              "            '<a target=\"_blank\" href=https://colab.research.google.com/notebooks/data_table.ipynb>data table notebook</a>'\n",
              "            + ' to learn more about interactive tables.';\n",
              "          element.innerHTML = '';\n",
              "          dataTable['output_type'] = 'display_data';\n",
              "          await google.colab.output.renderOutput(dataTable, element);\n",
              "          const docLink = document.createElement('div');\n",
              "          docLink.innerHTML = docLinkHtml;\n",
              "          element.appendChild(docLink);\n",
              "        }\n",
              "      </script>\n",
              "    </div>\n",
              "  </div>\n",
              "  "
            ]
          },
          "metadata": {},
          "execution_count": 314
        }
      ]
    },
    {
      "cell_type": "code",
      "source": [
        "training_set.dtypes"
      ],
      "metadata": {
        "colab": {
          "base_uri": "https://localhost:8080/"
        },
        "id": "cvtsaqmiG95n",
        "outputId": "70939af3-649a-417d-9b5e-747ab8e44b49"
      },
      "execution_count": 315,
      "outputs": [
        {
          "output_type": "execute_result",
          "data": {
            "text/plain": [
              "sex                                int64\n",
              "age_approx                       float64\n",
              "anatom_site_general_challenge     object\n",
              "diagnosis                         object\n",
              "target                             int64\n",
              "tfrecord                           int64\n",
              "dtype: object"
            ]
          },
          "metadata": {},
          "execution_count": 315
        }
      ]
    },
    {
      "cell_type": "code",
      "source": [
        "arr1v  =  training_set.anatom_site_general_challenge.unique()"
      ],
      "metadata": {
        "id": "aukE5LFxHOra"
      },
      "execution_count": 316,
      "outputs": []
    },
    {
      "cell_type": "code",
      "source": [
        "arr1v"
      ],
      "metadata": {
        "colab": {
          "base_uri": "https://localhost:8080/"
        },
        "id": "wWC_8ltZIiHj",
        "outputId": "a89d31db-2d8e-4500-fdaf-d04bb463ea3a"
      },
      "execution_count": 317,
      "outputs": [
        {
          "output_type": "execute_result",
          "data": {
            "text/plain": [
              "array(['anterior torso', 'upper extremity', 'posterior torso',\n",
              "       'lower extremity', 'lateral torso', 'head/neck', 'palms/soles',\n",
              "       'oral/genital'], dtype=object)"
            ]
          },
          "metadata": {},
          "execution_count": 317
        }
      ]
    },
    {
      "cell_type": "code",
      "source": [
        "def Convert(lst):\n",
        "    res_dct = {lst[i]: i+1  for i in range(0, len(lst)-1, 1)}\n",
        "    return res_dct\n",
        "level_map2 =Convert(arr1v)\n",
        "level_map2"
      ],
      "metadata": {
        "colab": {
          "base_uri": "https://localhost:8080/"
        },
        "id": "5YlrqfDOIc0l",
        "outputId": "7e076004-dbc1-4613-e43f-60c6fed95597"
      },
      "execution_count": 318,
      "outputs": [
        {
          "output_type": "execute_result",
          "data": {
            "text/plain": [
              "{'anterior torso': 1,\n",
              " 'upper extremity': 2,\n",
              " 'posterior torso': 3,\n",
              " 'lower extremity': 4,\n",
              " 'lateral torso': 5,\n",
              " 'head/neck': 6,\n",
              " 'palms/soles': 7}"
            ]
          },
          "metadata": {},
          "execution_count": 318
        }
      ]
    },
    {
      "cell_type": "code",
      "source": [
        "training_set['anatom_site_general_challenge'] = training_set['anatom_site_general_challenge'].map(level_map2)"
      ],
      "metadata": {
        "id": "W4JdBt1FQxXA"
      },
      "execution_count": 319,
      "outputs": []
    },
    {
      "cell_type": "code",
      "source": [
        "training_set.tail(5)"
      ],
      "metadata": {
        "colab": {
          "base_uri": "https://localhost:8080/",
          "height": 206
        },
        "id": "LlqaaotaJk2s",
        "outputId": "c9454ebc-992e-4b01-fbd2-29be380295b3"
      },
      "execution_count": 320,
      "outputs": [
        {
          "output_type": "execute_result",
          "data": {
            "text/plain": [
              "       sex  age_approx  anatom_site_general_challenge diagnosis  target  \\\n",
              "25326    1        85.0                            6.0       BCC       0   \n",
              "25327    0        65.0                            1.0       BKL       0   \n",
              "25328    0        70.0                            4.0       MEL       1   \n",
              "25329    1        55.0                            7.0        NV       0   \n",
              "25330    0        50.0                            2.0       BKL       0   \n",
              "\n",
              "       tfrecord  \n",
              "25326        19  \n",
              "25327         7  \n",
              "25328         9  \n",
              "25329        15  \n",
              "25330        23  "
            ],
            "text/html": [
              "\n",
              "  <div id=\"df-a5a868d9-a591-4148-bb1f-205bfa352a19\">\n",
              "    <div class=\"colab-df-container\">\n",
              "      <div>\n",
              "<style scoped>\n",
              "    .dataframe tbody tr th:only-of-type {\n",
              "        vertical-align: middle;\n",
              "    }\n",
              "\n",
              "    .dataframe tbody tr th {\n",
              "        vertical-align: top;\n",
              "    }\n",
              "\n",
              "    .dataframe thead th {\n",
              "        text-align: right;\n",
              "    }\n",
              "</style>\n",
              "<table border=\"1\" class=\"dataframe\">\n",
              "  <thead>\n",
              "    <tr style=\"text-align: right;\">\n",
              "      <th></th>\n",
              "      <th>sex</th>\n",
              "      <th>age_approx</th>\n",
              "      <th>anatom_site_general_challenge</th>\n",
              "      <th>diagnosis</th>\n",
              "      <th>target</th>\n",
              "      <th>tfrecord</th>\n",
              "    </tr>\n",
              "  </thead>\n",
              "  <tbody>\n",
              "    <tr>\n",
              "      <th>25326</th>\n",
              "      <td>1</td>\n",
              "      <td>85.0</td>\n",
              "      <td>6.0</td>\n",
              "      <td>BCC</td>\n",
              "      <td>0</td>\n",
              "      <td>19</td>\n",
              "    </tr>\n",
              "    <tr>\n",
              "      <th>25327</th>\n",
              "      <td>0</td>\n",
              "      <td>65.0</td>\n",
              "      <td>1.0</td>\n",
              "      <td>BKL</td>\n",
              "      <td>0</td>\n",
              "      <td>7</td>\n",
              "    </tr>\n",
              "    <tr>\n",
              "      <th>25328</th>\n",
              "      <td>0</td>\n",
              "      <td>70.0</td>\n",
              "      <td>4.0</td>\n",
              "      <td>MEL</td>\n",
              "      <td>1</td>\n",
              "      <td>9</td>\n",
              "    </tr>\n",
              "    <tr>\n",
              "      <th>25329</th>\n",
              "      <td>1</td>\n",
              "      <td>55.0</td>\n",
              "      <td>7.0</td>\n",
              "      <td>NV</td>\n",
              "      <td>0</td>\n",
              "      <td>15</td>\n",
              "    </tr>\n",
              "    <tr>\n",
              "      <th>25330</th>\n",
              "      <td>0</td>\n",
              "      <td>50.0</td>\n",
              "      <td>2.0</td>\n",
              "      <td>BKL</td>\n",
              "      <td>0</td>\n",
              "      <td>23</td>\n",
              "    </tr>\n",
              "  </tbody>\n",
              "</table>\n",
              "</div>\n",
              "      <button class=\"colab-df-convert\" onclick=\"convertToInteractive('df-a5a868d9-a591-4148-bb1f-205bfa352a19')\"\n",
              "              title=\"Convert this dataframe to an interactive table.\"\n",
              "              style=\"display:none;\">\n",
              "        \n",
              "  <svg xmlns=\"http://www.w3.org/2000/svg\" height=\"24px\"viewBox=\"0 0 24 24\"\n",
              "       width=\"24px\">\n",
              "    <path d=\"M0 0h24v24H0V0z\" fill=\"none\"/>\n",
              "    <path d=\"M18.56 5.44l.94 2.06.94-2.06 2.06-.94-2.06-.94-.94-2.06-.94 2.06-2.06.94zm-11 1L8.5 8.5l.94-2.06 2.06-.94-2.06-.94L8.5 2.5l-.94 2.06-2.06.94zm10 10l.94 2.06.94-2.06 2.06-.94-2.06-.94-.94-2.06-.94 2.06-2.06.94z\"/><path d=\"M17.41 7.96l-1.37-1.37c-.4-.4-.92-.59-1.43-.59-.52 0-1.04.2-1.43.59L10.3 9.45l-7.72 7.72c-.78.78-.78 2.05 0 2.83L4 21.41c.39.39.9.59 1.41.59.51 0 1.02-.2 1.41-.59l7.78-7.78 2.81-2.81c.8-.78.8-2.07 0-2.86zM5.41 20L4 18.59l7.72-7.72 1.47 1.35L5.41 20z\"/>\n",
              "  </svg>\n",
              "      </button>\n",
              "      \n",
              "  <style>\n",
              "    .colab-df-container {\n",
              "      display:flex;\n",
              "      flex-wrap:wrap;\n",
              "      gap: 12px;\n",
              "    }\n",
              "\n",
              "    .colab-df-convert {\n",
              "      background-color: #E8F0FE;\n",
              "      border: none;\n",
              "      border-radius: 50%;\n",
              "      cursor: pointer;\n",
              "      display: none;\n",
              "      fill: #1967D2;\n",
              "      height: 32px;\n",
              "      padding: 0 0 0 0;\n",
              "      width: 32px;\n",
              "    }\n",
              "\n",
              "    .colab-df-convert:hover {\n",
              "      background-color: #E2EBFA;\n",
              "      box-shadow: 0px 1px 2px rgba(60, 64, 67, 0.3), 0px 1px 3px 1px rgba(60, 64, 67, 0.15);\n",
              "      fill: #174EA6;\n",
              "    }\n",
              "\n",
              "    [theme=dark] .colab-df-convert {\n",
              "      background-color: #3B4455;\n",
              "      fill: #D2E3FC;\n",
              "    }\n",
              "\n",
              "    [theme=dark] .colab-df-convert:hover {\n",
              "      background-color: #434B5C;\n",
              "      box-shadow: 0px 1px 3px 1px rgba(0, 0, 0, 0.15);\n",
              "      filter: drop-shadow(0px 1px 2px rgba(0, 0, 0, 0.3));\n",
              "      fill: #FFFFFF;\n",
              "    }\n",
              "  </style>\n",
              "\n",
              "      <script>\n",
              "        const buttonEl =\n",
              "          document.querySelector('#df-a5a868d9-a591-4148-bb1f-205bfa352a19 button.colab-df-convert');\n",
              "        buttonEl.style.display =\n",
              "          google.colab.kernel.accessAllowed ? 'block' : 'none';\n",
              "\n",
              "        async function convertToInteractive(key) {\n",
              "          const element = document.querySelector('#df-a5a868d9-a591-4148-bb1f-205bfa352a19');\n",
              "          const dataTable =\n",
              "            await google.colab.kernel.invokeFunction('convertToInteractive',\n",
              "                                                     [key], {});\n",
              "          if (!dataTable) return;\n",
              "\n",
              "          const docLinkHtml = 'Like what you see? Visit the ' +\n",
              "            '<a target=\"_blank\" href=https://colab.research.google.com/notebooks/data_table.ipynb>data table notebook</a>'\n",
              "            + ' to learn more about interactive tables.';\n",
              "          element.innerHTML = '';\n",
              "          dataTable['output_type'] = 'display_data';\n",
              "          await google.colab.output.renderOutput(dataTable, element);\n",
              "          const docLink = document.createElement('div');\n",
              "          docLink.innerHTML = docLinkHtml;\n",
              "          element.appendChild(docLink);\n",
              "        }\n",
              "      </script>\n",
              "    </div>\n",
              "  </div>\n",
              "  "
            ]
          },
          "metadata": {},
          "execution_count": 320
        }
      ]
    },
    {
      "cell_type": "code",
      "source": [
        "arr2v  =  training_set.diagnosis.unique()"
      ],
      "metadata": {
        "id": "Z4jlG072UG9D"
      },
      "execution_count": 321,
      "outputs": []
    },
    {
      "cell_type": "code",
      "source": [
        "level_map3 =Convert(arr2v)\n",
        "level_map3"
      ],
      "metadata": {
        "colab": {
          "base_uri": "https://localhost:8080/"
        },
        "id": "m80yv2i3UDpT",
        "outputId": "6e4e7fdd-adcc-4739-b5f1-d1468252dea9"
      },
      "execution_count": 322,
      "outputs": [
        {
          "output_type": "execute_result",
          "data": {
            "text/plain": [
              "{'NV': 1, 'MEL': 2, 'BKL': 3, 'DF': 4, 'SCC': 5, 'BCC': 6, 'VASC': 7}"
            ]
          },
          "metadata": {},
          "execution_count": 322
        }
      ]
    },
    {
      "cell_type": "code",
      "source": [
        "training_set['diagnosis'] = training_set['diagnosis'].map(level_map3)"
      ],
      "metadata": {
        "id": "JSwJrA5YUR67"
      },
      "execution_count": 323,
      "outputs": []
    },
    {
      "cell_type": "code",
      "source": [
        "training_set.age_approx.unique()"
      ],
      "metadata": {
        "colab": {
          "base_uri": "https://localhost:8080/"
        },
        "id": "gRzWIfgQQeig",
        "outputId": "01c925d0-1746-4c13-b796-51b753397fee"
      },
      "execution_count": 324,
      "outputs": [
        {
          "output_type": "execute_result",
          "data": {
            "text/plain": [
              "array([55., 30., 60., 80., 25., 35., 50., 45., 70., 40., 65., 20., 15.,\n",
              "       85.,  5., 10., 75.,  0.])"
            ]
          },
          "metadata": {},
          "execution_count": 324
        }
      ]
    },
    {
      "cell_type": "code",
      "source": [
        "training_set.dtypes"
      ],
      "metadata": {
        "colab": {
          "base_uri": "https://localhost:8080/"
        },
        "id": "i_F3xtP9Jpq0",
        "outputId": "09570150-4926-42b7-c471-55f933a9c4a6"
      },
      "execution_count": 325,
      "outputs": [
        {
          "output_type": "execute_result",
          "data": {
            "text/plain": [
              "sex                                int64\n",
              "age_approx                       float64\n",
              "anatom_site_general_challenge    float64\n",
              "diagnosis                        float64\n",
              "target                             int64\n",
              "tfrecord                           int64\n",
              "dtype: object"
            ]
          },
          "metadata": {},
          "execution_count": 325
        }
      ]
    },
    {
      "cell_type": "code",
      "source": [
        "#ищем вхождения NaN\n",
        "training_set.isna().sum() "
      ],
      "metadata": {
        "colab": {
          "base_uri": "https://localhost:8080/"
        },
        "id": "UnPuK5jpKA2L",
        "outputId": "114bface-341e-4a60-d59a-f963e4c28b2c"
      },
      "execution_count": 326,
      "outputs": [
        {
          "output_type": "execute_result",
          "data": {
            "text/plain": [
              "sex                                0\n",
              "age_approx                         0\n",
              "anatom_site_general_challenge     59\n",
              "diagnosis                        845\n",
              "target                             0\n",
              "tfrecord                           0\n",
              "dtype: int64"
            ]
          },
          "metadata": {},
          "execution_count": 326
        }
      ]
    },
    {
      "cell_type": "code",
      "source": [
        "training_set = training_set.dropna() "
      ],
      "metadata": {
        "id": "fM4CFYxiKTbz"
      },
      "execution_count": 327,
      "outputs": []
    },
    {
      "cell_type": "code",
      "source": [
        "# training_set['anatom_site_general_challenge'] = training_set['anatom_site_general_challenge'].astype (int)\n",
        "# training_set['age_approx'] = training_set['age_approx'].astype (int)\n",
        "# training_set['diagnosis'] = training_set['diagnosis'].astype (int)\n",
        "training_set.tail(5)"
      ],
      "metadata": {
        "colab": {
          "base_uri": "https://localhost:8080/",
          "height": 206
        },
        "id": "I5uCgNLnQ3qf",
        "outputId": "8b65dc7a-bc38-43a9-edee-1eb2818f38b6"
      },
      "execution_count": 328,
      "outputs": [
        {
          "output_type": "execute_result",
          "data": {
            "text/plain": [
              "       sex  age_approx  anatom_site_general_challenge  diagnosis  target  \\\n",
              "25326    1        85.0                            6.0        6.0       0   \n",
              "25327    0        65.0                            1.0        3.0       0   \n",
              "25328    0        70.0                            4.0        2.0       1   \n",
              "25329    1        55.0                            7.0        1.0       0   \n",
              "25330    0        50.0                            2.0        3.0       0   \n",
              "\n",
              "       tfrecord  \n",
              "25326        19  \n",
              "25327         7  \n",
              "25328         9  \n",
              "25329        15  \n",
              "25330        23  "
            ],
            "text/html": [
              "\n",
              "  <div id=\"df-55f96d28-c1f8-424b-9a4c-dbf7f3b75f90\">\n",
              "    <div class=\"colab-df-container\">\n",
              "      <div>\n",
              "<style scoped>\n",
              "    .dataframe tbody tr th:only-of-type {\n",
              "        vertical-align: middle;\n",
              "    }\n",
              "\n",
              "    .dataframe tbody tr th {\n",
              "        vertical-align: top;\n",
              "    }\n",
              "\n",
              "    .dataframe thead th {\n",
              "        text-align: right;\n",
              "    }\n",
              "</style>\n",
              "<table border=\"1\" class=\"dataframe\">\n",
              "  <thead>\n",
              "    <tr style=\"text-align: right;\">\n",
              "      <th></th>\n",
              "      <th>sex</th>\n",
              "      <th>age_approx</th>\n",
              "      <th>anatom_site_general_challenge</th>\n",
              "      <th>diagnosis</th>\n",
              "      <th>target</th>\n",
              "      <th>tfrecord</th>\n",
              "    </tr>\n",
              "  </thead>\n",
              "  <tbody>\n",
              "    <tr>\n",
              "      <th>25326</th>\n",
              "      <td>1</td>\n",
              "      <td>85.0</td>\n",
              "      <td>6.0</td>\n",
              "      <td>6.0</td>\n",
              "      <td>0</td>\n",
              "      <td>19</td>\n",
              "    </tr>\n",
              "    <tr>\n",
              "      <th>25327</th>\n",
              "      <td>0</td>\n",
              "      <td>65.0</td>\n",
              "      <td>1.0</td>\n",
              "      <td>3.0</td>\n",
              "      <td>0</td>\n",
              "      <td>7</td>\n",
              "    </tr>\n",
              "    <tr>\n",
              "      <th>25328</th>\n",
              "      <td>0</td>\n",
              "      <td>70.0</td>\n",
              "      <td>4.0</td>\n",
              "      <td>2.0</td>\n",
              "      <td>1</td>\n",
              "      <td>9</td>\n",
              "    </tr>\n",
              "    <tr>\n",
              "      <th>25329</th>\n",
              "      <td>1</td>\n",
              "      <td>55.0</td>\n",
              "      <td>7.0</td>\n",
              "      <td>1.0</td>\n",
              "      <td>0</td>\n",
              "      <td>15</td>\n",
              "    </tr>\n",
              "    <tr>\n",
              "      <th>25330</th>\n",
              "      <td>0</td>\n",
              "      <td>50.0</td>\n",
              "      <td>2.0</td>\n",
              "      <td>3.0</td>\n",
              "      <td>0</td>\n",
              "      <td>23</td>\n",
              "    </tr>\n",
              "  </tbody>\n",
              "</table>\n",
              "</div>\n",
              "      <button class=\"colab-df-convert\" onclick=\"convertToInteractive('df-55f96d28-c1f8-424b-9a4c-dbf7f3b75f90')\"\n",
              "              title=\"Convert this dataframe to an interactive table.\"\n",
              "              style=\"display:none;\">\n",
              "        \n",
              "  <svg xmlns=\"http://www.w3.org/2000/svg\" height=\"24px\"viewBox=\"0 0 24 24\"\n",
              "       width=\"24px\">\n",
              "    <path d=\"M0 0h24v24H0V0z\" fill=\"none\"/>\n",
              "    <path d=\"M18.56 5.44l.94 2.06.94-2.06 2.06-.94-2.06-.94-.94-2.06-.94 2.06-2.06.94zm-11 1L8.5 8.5l.94-2.06 2.06-.94-2.06-.94L8.5 2.5l-.94 2.06-2.06.94zm10 10l.94 2.06.94-2.06 2.06-.94-2.06-.94-.94-2.06-.94 2.06-2.06.94z\"/><path d=\"M17.41 7.96l-1.37-1.37c-.4-.4-.92-.59-1.43-.59-.52 0-1.04.2-1.43.59L10.3 9.45l-7.72 7.72c-.78.78-.78 2.05 0 2.83L4 21.41c.39.39.9.59 1.41.59.51 0 1.02-.2 1.41-.59l7.78-7.78 2.81-2.81c.8-.78.8-2.07 0-2.86zM5.41 20L4 18.59l7.72-7.72 1.47 1.35L5.41 20z\"/>\n",
              "  </svg>\n",
              "      </button>\n",
              "      \n",
              "  <style>\n",
              "    .colab-df-container {\n",
              "      display:flex;\n",
              "      flex-wrap:wrap;\n",
              "      gap: 12px;\n",
              "    }\n",
              "\n",
              "    .colab-df-convert {\n",
              "      background-color: #E8F0FE;\n",
              "      border: none;\n",
              "      border-radius: 50%;\n",
              "      cursor: pointer;\n",
              "      display: none;\n",
              "      fill: #1967D2;\n",
              "      height: 32px;\n",
              "      padding: 0 0 0 0;\n",
              "      width: 32px;\n",
              "    }\n",
              "\n",
              "    .colab-df-convert:hover {\n",
              "      background-color: #E2EBFA;\n",
              "      box-shadow: 0px 1px 2px rgba(60, 64, 67, 0.3), 0px 1px 3px 1px rgba(60, 64, 67, 0.15);\n",
              "      fill: #174EA6;\n",
              "    }\n",
              "\n",
              "    [theme=dark] .colab-df-convert {\n",
              "      background-color: #3B4455;\n",
              "      fill: #D2E3FC;\n",
              "    }\n",
              "\n",
              "    [theme=dark] .colab-df-convert:hover {\n",
              "      background-color: #434B5C;\n",
              "      box-shadow: 0px 1px 3px 1px rgba(0, 0, 0, 0.15);\n",
              "      filter: drop-shadow(0px 1px 2px rgba(0, 0, 0, 0.3));\n",
              "      fill: #FFFFFF;\n",
              "    }\n",
              "  </style>\n",
              "\n",
              "      <script>\n",
              "        const buttonEl =\n",
              "          document.querySelector('#df-55f96d28-c1f8-424b-9a4c-dbf7f3b75f90 button.colab-df-convert');\n",
              "        buttonEl.style.display =\n",
              "          google.colab.kernel.accessAllowed ? 'block' : 'none';\n",
              "\n",
              "        async function convertToInteractive(key) {\n",
              "          const element = document.querySelector('#df-55f96d28-c1f8-424b-9a4c-dbf7f3b75f90');\n",
              "          const dataTable =\n",
              "            await google.colab.kernel.invokeFunction('convertToInteractive',\n",
              "                                                     [key], {});\n",
              "          if (!dataTable) return;\n",
              "\n",
              "          const docLinkHtml = 'Like what you see? Visit the ' +\n",
              "            '<a target=\"_blank\" href=https://colab.research.google.com/notebooks/data_table.ipynb>data table notebook</a>'\n",
              "            + ' to learn more about interactive tables.';\n",
              "          element.innerHTML = '';\n",
              "          dataTable['output_type'] = 'display_data';\n",
              "          await google.colab.output.renderOutput(dataTable, element);\n",
              "          const docLink = document.createElement('div');\n",
              "          docLink.innerHTML = docLinkHtml;\n",
              "          element.appendChild(docLink);\n",
              "        }\n",
              "      </script>\n",
              "    </div>\n",
              "  </div>\n",
              "  "
            ]
          },
          "metadata": {},
          "execution_count": 328
        }
      ]
    },
    {
      "cell_type": "code",
      "source": [
        "training_set.tail(5)"
      ],
      "metadata": {
        "colab": {
          "base_uri": "https://localhost:8080/",
          "height": 206
        },
        "id": "SzmYo71zKWmU",
        "outputId": "cc8102bc-cfbf-4644-91a5-08bb3293ea93"
      },
      "execution_count": 329,
      "outputs": [
        {
          "output_type": "execute_result",
          "data": {
            "text/plain": [
              "       sex  age_approx  anatom_site_general_challenge  diagnosis  target  \\\n",
              "25326    1        85.0                            6.0        6.0       0   \n",
              "25327    0        65.0                            1.0        3.0       0   \n",
              "25328    0        70.0                            4.0        2.0       1   \n",
              "25329    1        55.0                            7.0        1.0       0   \n",
              "25330    0        50.0                            2.0        3.0       0   \n",
              "\n",
              "       tfrecord  \n",
              "25326        19  \n",
              "25327         7  \n",
              "25328         9  \n",
              "25329        15  \n",
              "25330        23  "
            ],
            "text/html": [
              "\n",
              "  <div id=\"df-b7dc1ec5-f76c-4c5d-982e-fbf78af3bd5d\">\n",
              "    <div class=\"colab-df-container\">\n",
              "      <div>\n",
              "<style scoped>\n",
              "    .dataframe tbody tr th:only-of-type {\n",
              "        vertical-align: middle;\n",
              "    }\n",
              "\n",
              "    .dataframe tbody tr th {\n",
              "        vertical-align: top;\n",
              "    }\n",
              "\n",
              "    .dataframe thead th {\n",
              "        text-align: right;\n",
              "    }\n",
              "</style>\n",
              "<table border=\"1\" class=\"dataframe\">\n",
              "  <thead>\n",
              "    <tr style=\"text-align: right;\">\n",
              "      <th></th>\n",
              "      <th>sex</th>\n",
              "      <th>age_approx</th>\n",
              "      <th>anatom_site_general_challenge</th>\n",
              "      <th>diagnosis</th>\n",
              "      <th>target</th>\n",
              "      <th>tfrecord</th>\n",
              "    </tr>\n",
              "  </thead>\n",
              "  <tbody>\n",
              "    <tr>\n",
              "      <th>25326</th>\n",
              "      <td>1</td>\n",
              "      <td>85.0</td>\n",
              "      <td>6.0</td>\n",
              "      <td>6.0</td>\n",
              "      <td>0</td>\n",
              "      <td>19</td>\n",
              "    </tr>\n",
              "    <tr>\n",
              "      <th>25327</th>\n",
              "      <td>0</td>\n",
              "      <td>65.0</td>\n",
              "      <td>1.0</td>\n",
              "      <td>3.0</td>\n",
              "      <td>0</td>\n",
              "      <td>7</td>\n",
              "    </tr>\n",
              "    <tr>\n",
              "      <th>25328</th>\n",
              "      <td>0</td>\n",
              "      <td>70.0</td>\n",
              "      <td>4.0</td>\n",
              "      <td>2.0</td>\n",
              "      <td>1</td>\n",
              "      <td>9</td>\n",
              "    </tr>\n",
              "    <tr>\n",
              "      <th>25329</th>\n",
              "      <td>1</td>\n",
              "      <td>55.0</td>\n",
              "      <td>7.0</td>\n",
              "      <td>1.0</td>\n",
              "      <td>0</td>\n",
              "      <td>15</td>\n",
              "    </tr>\n",
              "    <tr>\n",
              "      <th>25330</th>\n",
              "      <td>0</td>\n",
              "      <td>50.0</td>\n",
              "      <td>2.0</td>\n",
              "      <td>3.0</td>\n",
              "      <td>0</td>\n",
              "      <td>23</td>\n",
              "    </tr>\n",
              "  </tbody>\n",
              "</table>\n",
              "</div>\n",
              "      <button class=\"colab-df-convert\" onclick=\"convertToInteractive('df-b7dc1ec5-f76c-4c5d-982e-fbf78af3bd5d')\"\n",
              "              title=\"Convert this dataframe to an interactive table.\"\n",
              "              style=\"display:none;\">\n",
              "        \n",
              "  <svg xmlns=\"http://www.w3.org/2000/svg\" height=\"24px\"viewBox=\"0 0 24 24\"\n",
              "       width=\"24px\">\n",
              "    <path d=\"M0 0h24v24H0V0z\" fill=\"none\"/>\n",
              "    <path d=\"M18.56 5.44l.94 2.06.94-2.06 2.06-.94-2.06-.94-.94-2.06-.94 2.06-2.06.94zm-11 1L8.5 8.5l.94-2.06 2.06-.94-2.06-.94L8.5 2.5l-.94 2.06-2.06.94zm10 10l.94 2.06.94-2.06 2.06-.94-2.06-.94-.94-2.06-.94 2.06-2.06.94z\"/><path d=\"M17.41 7.96l-1.37-1.37c-.4-.4-.92-.59-1.43-.59-.52 0-1.04.2-1.43.59L10.3 9.45l-7.72 7.72c-.78.78-.78 2.05 0 2.83L4 21.41c.39.39.9.59 1.41.59.51 0 1.02-.2 1.41-.59l7.78-7.78 2.81-2.81c.8-.78.8-2.07 0-2.86zM5.41 20L4 18.59l7.72-7.72 1.47 1.35L5.41 20z\"/>\n",
              "  </svg>\n",
              "      </button>\n",
              "      \n",
              "  <style>\n",
              "    .colab-df-container {\n",
              "      display:flex;\n",
              "      flex-wrap:wrap;\n",
              "      gap: 12px;\n",
              "    }\n",
              "\n",
              "    .colab-df-convert {\n",
              "      background-color: #E8F0FE;\n",
              "      border: none;\n",
              "      border-radius: 50%;\n",
              "      cursor: pointer;\n",
              "      display: none;\n",
              "      fill: #1967D2;\n",
              "      height: 32px;\n",
              "      padding: 0 0 0 0;\n",
              "      width: 32px;\n",
              "    }\n",
              "\n",
              "    .colab-df-convert:hover {\n",
              "      background-color: #E2EBFA;\n",
              "      box-shadow: 0px 1px 2px rgba(60, 64, 67, 0.3), 0px 1px 3px 1px rgba(60, 64, 67, 0.15);\n",
              "      fill: #174EA6;\n",
              "    }\n",
              "\n",
              "    [theme=dark] .colab-df-convert {\n",
              "      background-color: #3B4455;\n",
              "      fill: #D2E3FC;\n",
              "    }\n",
              "\n",
              "    [theme=dark] .colab-df-convert:hover {\n",
              "      background-color: #434B5C;\n",
              "      box-shadow: 0px 1px 3px 1px rgba(0, 0, 0, 0.15);\n",
              "      filter: drop-shadow(0px 1px 2px rgba(0, 0, 0, 0.3));\n",
              "      fill: #FFFFFF;\n",
              "    }\n",
              "  </style>\n",
              "\n",
              "      <script>\n",
              "        const buttonEl =\n",
              "          document.querySelector('#df-b7dc1ec5-f76c-4c5d-982e-fbf78af3bd5d button.colab-df-convert');\n",
              "        buttonEl.style.display =\n",
              "          google.colab.kernel.accessAllowed ? 'block' : 'none';\n",
              "\n",
              "        async function convertToInteractive(key) {\n",
              "          const element = document.querySelector('#df-b7dc1ec5-f76c-4c5d-982e-fbf78af3bd5d');\n",
              "          const dataTable =\n",
              "            await google.colab.kernel.invokeFunction('convertToInteractive',\n",
              "                                                     [key], {});\n",
              "          if (!dataTable) return;\n",
              "\n",
              "          const docLinkHtml = 'Like what you see? Visit the ' +\n",
              "            '<a target=\"_blank\" href=https://colab.research.google.com/notebooks/data_table.ipynb>data table notebook</a>'\n",
              "            + ' to learn more about interactive tables.';\n",
              "          element.innerHTML = '';\n",
              "          dataTable['output_type'] = 'display_data';\n",
              "          await google.colab.output.renderOutput(dataTable, element);\n",
              "          const docLink = document.createElement('div');\n",
              "          docLink.innerHTML = docLinkHtml;\n",
              "          element.appendChild(docLink);\n",
              "        }\n",
              "      </script>\n",
              "    </div>\n",
              "  </div>\n",
              "  "
            ]
          },
          "metadata": {},
          "execution_count": 329
        }
      ]
    },
    {
      "cell_type": "code",
      "source": [
        "training_set.isna().sum() "
      ],
      "metadata": {
        "colab": {
          "base_uri": "https://localhost:8080/"
        },
        "id": "6W_SPdjNKcLq",
        "outputId": "7445d666-d585-4c31-8e55-c3d32d334d2b"
      },
      "execution_count": 330,
      "outputs": [
        {
          "output_type": "execute_result",
          "data": {
            "text/plain": [
              "sex                              0\n",
              "age_approx                       0\n",
              "anatom_site_general_challenge    0\n",
              "diagnosis                        0\n",
              "target                           0\n",
              "tfrecord                         0\n",
              "dtype: int64"
            ]
          },
          "metadata": {},
          "execution_count": 330
        }
      ]
    },
    {
      "cell_type": "code",
      "source": [
        "training_set = training_set.dropna() "
      ],
      "metadata": {
        "id": "q8MpjXjNU4Rf"
      },
      "execution_count": 331,
      "outputs": []
    },
    {
      "cell_type": "code",
      "source": [
        "# выдергивам в отдельный датасет колнку с нащим результатом диагноза\n",
        "target = training_set.pop('target')"
      ],
      "metadata": {
        "id": "E7I5rVBFQFOL"
      },
      "execution_count": 332,
      "outputs": []
    },
    {
      "cell_type": "code",
      "source": [
        "#нормализуем данные\n",
        "\n",
        "from sklearn import preprocessing\n",
        "\n",
        "training_set = preprocessing.normalize(training_set)"
      ],
      "metadata": {
        "id": "1Api80JmDEYY"
      },
      "execution_count": 333,
      "outputs": []
    },
    {
      "cell_type": "code",
      "source": [
        "training_set"
      ],
      "metadata": {
        "colab": {
          "base_uri": "https://localhost:8080/"
        },
        "id": "XYFBgNL1LBdT",
        "outputId": "e04b6a6d-868a-40a4-b344-5d2ff6d566cc"
      },
      "execution_count": 334,
      "outputs": [
        {
          "output_type": "execute_result",
          "data": {
            "text/plain": [
              "array([[0.01812499, 0.99687422, 0.01812499, 0.01812499, 0.07249994],\n",
              "       [0.02854813, 0.856444  , 0.02854813, 0.02854813, 0.5138664 ],\n",
              "       [0.01664587, 0.99875234, 0.03329174, 0.03329174, 0.        ],\n",
              "       ...,\n",
              "       [0.        , 0.98985051, 0.05656289, 0.02828144, 0.12726649],\n",
              "       [0.01740513, 0.95728208, 0.1218359 , 0.01740513, 0.26107693],\n",
              "       [0.        , 0.90654716, 0.03626189, 0.05439283, 0.41701169]])"
            ]
          },
          "metadata": {},
          "execution_count": 334
        }
      ]
    },
    {
      "cell_type": "code",
      "source": [
        "len(training_set)"
      ],
      "metadata": {
        "colab": {
          "base_uri": "https://localhost:8080/"
        },
        "id": "vsI-0SIXOytd",
        "outputId": "b7669135-eb1c-4af8-af91-5a07313278d3"
      },
      "execution_count": 335,
      "outputs": [
        {
          "output_type": "execute_result",
          "data": {
            "text/plain": [
              "21576"
            ]
          },
          "metadata": {},
          "execution_count": 335
        }
      ]
    },
    {
      "cell_type": "code",
      "source": [
        "len(target)"
      ],
      "metadata": {
        "colab": {
          "base_uri": "https://localhost:8080/"
        },
        "id": "lZXHc7j8O9EO",
        "outputId": "394cc5a6-2c9f-414d-dc64-d76d4e82aaab"
      },
      "execution_count": 336,
      "outputs": [
        {
          "output_type": "execute_result",
          "data": {
            "text/plain": [
              "21576"
            ]
          },
          "metadata": {},
          "execution_count": 336
        }
      ]
    },
    {
      "cell_type": "code",
      "source": [
        "target.tail(5)"
      ],
      "metadata": {
        "colab": {
          "base_uri": "https://localhost:8080/"
        },
        "id": "3vaEgZL8LLXp",
        "outputId": "42d2c06f-9d7c-461a-945d-865cf3053764"
      },
      "execution_count": 337,
      "outputs": [
        {
          "output_type": "execute_result",
          "data": {
            "text/plain": [
              "25326    0\n",
              "25327    0\n",
              "25328    1\n",
              "25329    0\n",
              "25330    0\n",
              "Name: target, dtype: int64"
            ]
          },
          "metadata": {},
          "execution_count": 337
        }
      ]
    },
    {
      "cell_type": "code",
      "source": [
        "from sklearn.model_selection import train_test_split\n",
        "X_train, X_test, y_train, y_test = train_test_split(training_set, target, test_size=0.2, random_state=0)\n",
        "lr=1e-4"
      ],
      "metadata": {
        "id": "riKLDsq3B8RA"
      },
      "execution_count": 338,
      "outputs": []
    },
    {
      "cell_type": "code",
      "source": [
        "from keras.models import Sequential\n",
        "from keras.optimizers import Adam\n",
        "from keras import layers\n",
        "classifier = Sequential() # Инициализация НС\n",
        "classifier.add(tf.keras.layers.Flatten(input_dim = 5))\n",
        "#classifier.add(Dense(units = 32, activation = 'relu', input_dim = 6))#6 - потому что на входе всего 6 чисел\n",
        "classifier.add(layers.Dense(units = 512, activation = 'relu'))\n",
        "classifier.add(layers.Dense(units = 256, activation = 'relu'))\n",
        "classifier.add(layers.Dense(units = 128, activation = 'relu'))\n",
        "classifier.add(layers.Dropout(0.3))\n",
        "#classifier.add(layers.BatchNormalization())\n",
        "classifier.add(layers.Dense(2, activation='softmax'))\n",
        "classifier.add(layers.Dense(units = 1, activation = 'sigmoid'))"
      ],
      "metadata": {
        "id": "h7BjDCqNCDHp"
      },
      "execution_count": 339,
      "outputs": []
    },
    {
      "cell_type": "code",
      "source": [
        "#classifier.compile(optimizer = 'rmsprop', loss = 'binary_crossentropy')\n",
        "classifier.compile(loss='binary_crossentropy',\n",
        "        optimizer=Adam(learning_rate=lr),\n",
        "        metrics=['accuracy'])"
      ],
      "metadata": {
        "id": "tKFoc6KuCOUK"
      },
      "execution_count": 340,
      "outputs": []
    },
    {
      "cell_type": "code",
      "source": [
        "classifier.fit(X_train, y_train, batch_size = 32, epochs = 100)"
      ],
      "metadata": {
        "colab": {
          "base_uri": "https://localhost:8080/"
        },
        "id": "YzFqm6awCRW5",
        "outputId": "5f5e680b-ffd4-43d3-e922-fa44bc850ef2"
      },
      "execution_count": 341,
      "outputs": [
        {
          "output_type": "stream",
          "name": "stdout",
          "text": [
            "Epoch 1/100\n",
            "540/540 [==============================] - 5s 8ms/step - loss: 0.5989 - accuracy: 0.7999\n",
            "Epoch 2/100\n",
            "540/540 [==============================] - 3s 6ms/step - loss: 0.5779 - accuracy: 0.7999\n",
            "Epoch 3/100\n",
            "540/540 [==============================] - 4s 7ms/step - loss: 0.5622 - accuracy: 0.7999\n",
            "Epoch 4/100\n",
            "540/540 [==============================] - 6s 10ms/step - loss: 0.5491 - accuracy: 0.7999\n",
            "Epoch 5/100\n",
            "540/540 [==============================] - 4s 7ms/step - loss: 0.5383 - accuracy: 0.7999\n",
            "Epoch 6/100\n",
            "540/540 [==============================] - 3s 6ms/step - loss: 0.5294 - accuracy: 0.7999\n",
            "Epoch 7/100\n",
            "540/540 [==============================] - 2s 4ms/step - loss: 0.5223 - accuracy: 0.7999\n",
            "Epoch 8/100\n",
            "540/540 [==============================] - 3s 5ms/step - loss: 0.5166 - accuracy: 0.7999\n",
            "Epoch 9/100\n",
            "540/540 [==============================] - 2s 4ms/step - loss: 0.5121 - accuracy: 0.7999\n",
            "Epoch 10/100\n",
            "540/540 [==============================] - 2s 4ms/step - loss: 0.5087 - accuracy: 0.7999\n",
            "Epoch 11/100\n",
            "540/540 [==============================] - 2s 4ms/step - loss: 0.5062 - accuracy: 0.7999\n",
            "Epoch 12/100\n",
            "540/540 [==============================] - 2s 4ms/step - loss: 0.5043 - accuracy: 0.7999\n",
            "Epoch 13/100\n",
            "540/540 [==============================] - 2s 4ms/step - loss: 0.5030 - accuracy: 0.7999\n",
            "Epoch 14/100\n",
            "540/540 [==============================] - 3s 5ms/step - loss: 0.5021 - accuracy: 0.7999\n",
            "Epoch 15/100\n",
            "540/540 [==============================] - 2s 4ms/step - loss: 0.5015 - accuracy: 0.7999\n",
            "Epoch 16/100\n",
            "540/540 [==============================] - 2s 4ms/step - loss: 0.5011 - accuracy: 0.7999\n",
            "Epoch 17/100\n",
            "540/540 [==============================] - 2s 4ms/step - loss: 0.5009 - accuracy: 0.7999\n",
            "Epoch 18/100\n",
            "540/540 [==============================] - 2s 4ms/step - loss: 0.5007 - accuracy: 0.7999\n",
            "Epoch 19/100\n",
            "540/540 [==============================] - 2s 4ms/step - loss: 0.5006 - accuracy: 0.7999\n",
            "Epoch 20/100\n",
            "540/540 [==============================] - 2s 4ms/step - loss: 0.5006 - accuracy: 0.7999\n",
            "Epoch 21/100\n",
            "540/540 [==============================] - 2s 4ms/step - loss: 0.5005 - accuracy: 0.7999\n",
            "Epoch 22/100\n",
            "540/540 [==============================] - 2s 4ms/step - loss: 0.5005 - accuracy: 0.7999\n",
            "Epoch 23/100\n",
            "540/540 [==============================] - 2s 4ms/step - loss: 0.5005 - accuracy: 0.7999\n",
            "Epoch 24/100\n",
            "540/540 [==============================] - 2s 4ms/step - loss: 0.5005 - accuracy: 0.7999\n",
            "Epoch 25/100\n",
            "540/540 [==============================] - 3s 5ms/step - loss: 0.5005 - accuracy: 0.7999\n",
            "Epoch 26/100\n",
            "540/540 [==============================] - 2s 4ms/step - loss: 0.5005 - accuracy: 0.7999\n",
            "Epoch 27/100\n",
            "540/540 [==============================] - 2s 4ms/step - loss: 0.5005 - accuracy: 0.7999\n",
            "Epoch 28/100\n",
            "540/540 [==============================] - 2s 4ms/step - loss: 0.5005 - accuracy: 0.7999\n",
            "Epoch 29/100\n",
            "540/540 [==============================] - 2s 4ms/step - loss: 0.5005 - accuracy: 0.7999\n",
            "Epoch 30/100\n",
            "540/540 [==============================] - 2s 4ms/step - loss: 0.5005 - accuracy: 0.7999\n",
            "Epoch 31/100\n",
            "540/540 [==============================] - 3s 5ms/step - loss: 0.5005 - accuracy: 0.7999\n",
            "Epoch 32/100\n",
            "540/540 [==============================] - 3s 6ms/step - loss: 0.5005 - accuracy: 0.7999\n",
            "Epoch 33/100\n",
            "540/540 [==============================] - 2s 4ms/step - loss: 0.5005 - accuracy: 0.7999\n",
            "Epoch 34/100\n",
            "540/540 [==============================] - 2s 4ms/step - loss: 0.5005 - accuracy: 0.7999\n",
            "Epoch 35/100\n",
            "540/540 [==============================] - 2s 4ms/step - loss: 0.5005 - accuracy: 0.7999\n",
            "Epoch 36/100\n",
            "540/540 [==============================] - 3s 5ms/step - loss: 0.4975 - accuracy: 0.7999\n",
            "Epoch 37/100\n",
            "540/540 [==============================] - 2s 4ms/step - loss: 0.4902 - accuracy: 0.7999\n",
            "Epoch 38/100\n",
            "540/540 [==============================] - 2s 4ms/step - loss: 0.4851 - accuracy: 0.7999\n",
            "Epoch 39/100\n",
            "540/540 [==============================] - 2s 4ms/step - loss: 0.4807 - accuracy: 0.7999\n",
            "Epoch 40/100\n",
            "540/540 [==============================] - 2s 4ms/step - loss: 0.4770 - accuracy: 0.7999\n",
            "Epoch 41/100\n",
            "540/540 [==============================] - 3s 5ms/step - loss: 0.4720 - accuracy: 0.7999\n",
            "Epoch 42/100\n",
            "540/540 [==============================] - 2s 4ms/step - loss: 0.4631 - accuracy: 0.7999\n",
            "Epoch 43/100\n",
            "540/540 [==============================] - 2s 4ms/step - loss: 0.4430 - accuracy: 0.7999\n",
            "Epoch 44/100\n",
            "540/540 [==============================] - 2s 4ms/step - loss: 0.4167 - accuracy: 0.7999\n",
            "Epoch 45/100\n",
            "540/540 [==============================] - 2s 4ms/step - loss: 0.3990 - accuracy: 0.7999\n",
            "Epoch 46/100\n",
            "540/540 [==============================] - 2s 4ms/step - loss: 0.3866 - accuracy: 0.7999\n",
            "Epoch 47/100\n",
            "540/540 [==============================] - 3s 5ms/step - loss: 0.3794 - accuracy: 0.7999\n",
            "Epoch 48/100\n",
            "540/540 [==============================] - 2s 4ms/step - loss: 0.3707 - accuracy: 0.7999\n",
            "Epoch 49/100\n",
            "540/540 [==============================] - 2s 4ms/step - loss: 0.3647 - accuracy: 0.7999\n",
            "Epoch 50/100\n",
            "540/540 [==============================] - 2s 4ms/step - loss: 0.3576 - accuracy: 0.7999\n",
            "Epoch 51/100\n",
            "540/540 [==============================] - 2s 4ms/step - loss: 0.3522 - accuracy: 0.7999\n",
            "Epoch 52/100\n",
            "540/540 [==============================] - 3s 5ms/step - loss: 0.3456 - accuracy: 0.7999\n",
            "Epoch 53/100\n",
            "540/540 [==============================] - 2s 4ms/step - loss: 0.3401 - accuracy: 0.7999\n",
            "Epoch 54/100\n",
            "540/540 [==============================] - 2s 4ms/step - loss: 0.3354 - accuracy: 0.7999\n",
            "Epoch 55/100\n",
            "540/540 [==============================] - 2s 4ms/step - loss: 0.3310 - accuracy: 0.7999\n",
            "Epoch 56/100\n",
            "540/540 [==============================] - 2s 4ms/step - loss: 0.3261 - accuracy: 0.7999\n",
            "Epoch 57/100\n",
            "540/540 [==============================] - 2s 4ms/step - loss: 0.3222 - accuracy: 0.7999\n",
            "Epoch 58/100\n",
            "540/540 [==============================] - 3s 5ms/step - loss: 0.3172 - accuracy: 0.7999\n",
            "Epoch 59/100\n",
            "540/540 [==============================] - 2s 4ms/step - loss: 0.3115 - accuracy: 0.7999\n",
            "Epoch 60/100\n",
            "540/540 [==============================] - 2s 4ms/step - loss: 0.3062 - accuracy: 0.7999\n",
            "Epoch 61/100\n",
            "540/540 [==============================] - 2s 4ms/step - loss: 0.2975 - accuracy: 0.7999\n",
            "Epoch 62/100\n",
            "540/540 [==============================] - 2s 4ms/step - loss: 0.2914 - accuracy: 0.7999\n",
            "Epoch 63/100\n",
            "540/540 [==============================] - 2s 4ms/step - loss: 0.2861 - accuracy: 0.8238\n",
            "Epoch 64/100\n",
            "540/540 [==============================] - 3s 5ms/step - loss: 0.2813 - accuracy: 0.8685\n",
            "Epoch 65/100\n",
            "540/540 [==============================] - 2s 4ms/step - loss: 0.2773 - accuracy: 0.8747\n",
            "Epoch 66/100\n",
            "540/540 [==============================] - 2s 4ms/step - loss: 0.2731 - accuracy: 0.8844\n",
            "Epoch 67/100\n",
            "540/540 [==============================] - 2s 4ms/step - loss: 0.2698 - accuracy: 0.8869\n",
            "Epoch 68/100\n",
            "540/540 [==============================] - 2s 4ms/step - loss: 0.2675 - accuracy: 0.8940\n",
            "Epoch 69/100\n",
            "540/540 [==============================] - 2s 5ms/step - loss: 0.2616 - accuracy: 0.8954\n",
            "Epoch 70/100\n",
            "540/540 [==============================] - 2s 4ms/step - loss: 0.2619 - accuracy: 0.8930\n",
            "Epoch 71/100\n",
            "540/540 [==============================] - 2s 4ms/step - loss: 0.2558 - accuracy: 0.9003\n",
            "Epoch 72/100\n",
            "540/540 [==============================] - 2s 4ms/step - loss: 0.2522 - accuracy: 0.8992\n",
            "Epoch 73/100\n",
            "540/540 [==============================] - 2s 4ms/step - loss: 0.2502 - accuracy: 0.9010\n",
            "Epoch 74/100\n",
            "540/540 [==============================] - 2s 4ms/step - loss: 0.2444 - accuracy: 0.9056\n",
            "Epoch 75/100\n",
            "540/540 [==============================] - 3s 5ms/step - loss: 0.2452 - accuracy: 0.9015\n",
            "Epoch 76/100\n",
            "540/540 [==============================] - 2s 4ms/step - loss: 0.2369 - accuracy: 0.9107\n",
            "Epoch 77/100\n",
            "540/540 [==============================] - 2s 4ms/step - loss: 0.2350 - accuracy: 0.9097\n",
            "Epoch 78/100\n",
            "540/540 [==============================] - 2s 4ms/step - loss: 0.2305 - accuracy: 0.9126\n",
            "Epoch 79/100\n",
            "540/540 [==============================] - 2s 4ms/step - loss: 0.2310 - accuracy: 0.9092\n",
            "Epoch 80/100\n",
            "540/540 [==============================] - 2s 4ms/step - loss: 0.2251 - accuracy: 0.9163\n",
            "Epoch 81/100\n",
            "540/540 [==============================] - 2s 4ms/step - loss: 0.2226 - accuracy: 0.9167\n",
            "Epoch 82/100\n",
            "540/540 [==============================] - 2s 4ms/step - loss: 0.2231 - accuracy: 0.9156\n",
            "Epoch 83/100\n",
            "540/540 [==============================] - 2s 4ms/step - loss: 0.2180 - accuracy: 0.9188\n",
            "Epoch 84/100\n",
            "540/540 [==============================] - 2s 4ms/step - loss: 0.2141 - accuracy: 0.9211\n",
            "Epoch 85/100\n",
            "540/540 [==============================] - 2s 4ms/step - loss: 0.2099 - accuracy: 0.9224\n",
            "Epoch 86/100\n",
            "540/540 [==============================] - 3s 5ms/step - loss: 0.2094 - accuracy: 0.9219\n",
            "Epoch 87/100\n",
            "540/540 [==============================] - 2s 4ms/step - loss: 0.2047 - accuracy: 0.9244\n",
            "Epoch 88/100\n",
            "540/540 [==============================] - 2s 4ms/step - loss: 0.2027 - accuracy: 0.9256\n",
            "Epoch 89/100\n",
            "540/540 [==============================] - 2s 4ms/step - loss: 0.1994 - accuracy: 0.9298\n",
            "Epoch 90/100\n",
            "540/540 [==============================] - 2s 4ms/step - loss: 0.1986 - accuracy: 0.9272\n",
            "Epoch 91/100\n",
            "540/540 [==============================] - 2s 5ms/step - loss: 0.1928 - accuracy: 0.9309\n",
            "Epoch 92/100\n",
            "540/540 [==============================] - 3s 5ms/step - loss: 0.1912 - accuracy: 0.9316\n",
            "Epoch 93/100\n",
            "540/540 [==============================] - 2s 4ms/step - loss: 0.1894 - accuracy: 0.9316\n",
            "Epoch 94/100\n",
            "540/540 [==============================] - 2s 4ms/step - loss: 0.1878 - accuracy: 0.9336\n",
            "Epoch 95/100\n",
            "540/540 [==============================] - 2s 4ms/step - loss: 0.1849 - accuracy: 0.9344\n",
            "Epoch 96/100\n",
            "540/540 [==============================] - 2s 4ms/step - loss: 0.1825 - accuracy: 0.9360\n",
            "Epoch 97/100\n",
            "540/540 [==============================] - 3s 5ms/step - loss: 0.1793 - accuracy: 0.9362\n",
            "Epoch 98/100\n",
            "540/540 [==============================] - 2s 4ms/step - loss: 0.1764 - accuracy: 0.9380\n",
            "Epoch 99/100\n",
            "540/540 [==============================] - 2s 4ms/step - loss: 0.1791 - accuracy: 0.9359\n",
            "Epoch 100/100\n",
            "540/540 [==============================] - 2s 4ms/step - loss: 0.1752 - accuracy: 0.9370\n"
          ]
        },
        {
          "output_type": "execute_result",
          "data": {
            "text/plain": [
              "<keras.callbacks.History at 0x7fd01d9250d0>"
            ]
          },
          "metadata": {},
          "execution_count": 341
        }
      ]
    },
    {
      "cell_type": "code",
      "source": [
        "Y_pred = classifier.predict(X_test) # подаём на вход обученной НС тестовый набор данных\n",
        "Y_pred = [ 1 if y>=0.5 else 0 for y in Y_pred ]"
      ],
      "metadata": {
        "colab": {
          "base_uri": "https://localhost:8080/"
        },
        "id": "HdD0-_pEQyyX",
        "outputId": "237f198e-9311-4065-dd3b-a69e8f8161f0"
      },
      "execution_count": 342,
      "outputs": [
        {
          "output_type": "stream",
          "name": "stdout",
          "text": [
            "135/135 [==============================] - 0s 2ms/step\n"
          ]
        }
      ]
    },
    {
      "cell_type": "code",
      "source": [
        "y_testNum = y_test.to_numpy()"
      ],
      "metadata": {
        "id": "ziqR-B9KE5sD"
      },
      "execution_count": 343,
      "outputs": []
    },
    {
      "cell_type": "code",
      "source": [
        "print(len(X_train),type(X_train),\"\\n\",\n",
        "len(X_test),type(X_test),\"\\n\",\n",
        "len(y_train),type(y_train),\"\\n\",\n",
        "len(y_test),type(y_test),\"\\n\",\n",
        "len(Y_pred),type(Y_pred),\"\\n\",\n",
        "len(y_testNum),type(y_testNum))"
      ],
      "metadata": {
        "colab": {
          "base_uri": "https://localhost:8080/"
        },
        "id": "N9kQgjSaEbdE",
        "outputId": "c3da2e5f-2290-42ad-b33e-cd04afb09374"
      },
      "execution_count": 344,
      "outputs": [
        {
          "output_type": "stream",
          "name": "stdout",
          "text": [
            "17260 <class 'numpy.ndarray'> \n",
            " 4316 <class 'numpy.ndarray'> \n",
            " 17260 <class 'pandas.core.series.Series'> \n",
            " 4316 <class 'pandas.core.series.Series'> \n",
            " 4316 <class 'list'> \n",
            " 4316 <class 'numpy.ndarray'>\n"
          ]
        }
      ]
    },
    {
      "cell_type": "code",
      "source": [],
      "metadata": {
        "id": "CdsnJbopjRp4"
      },
      "execution_count": 344,
      "outputs": []
    },
    {
      "cell_type": "code",
      "source": [
        "total = 0\n",
        "correct = 0\n",
        "wrong = 0\n",
        "for i in range(len(Y_pred)):\n",
        " total=total+1\n",
        " if(y_testNum[i] == Y_pred[i]):\n",
        "  correct=correct+1\n",
        " else:\n",
        "  wrong=wrong+1\n",
        "\n",
        "print(\"Total \" + str(total))\n",
        "print(\"Correct \" + str(correct))\n",
        "print(\"Wrong \" + str(wrong))"
      ],
      "metadata": {
        "colab": {
          "base_uri": "https://localhost:8080/"
        },
        "id": "NSynGLj0Q8Yn",
        "outputId": "ea9886d0-98e0-493f-b7d7-2a23657c8111"
      },
      "execution_count": 345,
      "outputs": [
        {
          "output_type": "stream",
          "name": "stdout",
          "text": [
            "Total 4316\n",
            "Correct 4095\n",
            "Wrong 221\n"
          ]
        }
      ]
    },
    {
      "cell_type": "code",
      "source": [
        "# from keras import layers\n",
        "# vgg16net = tf.keras.applications.VGG16(\n",
        "#   include_top=False,\n",
        "#   input_shape=(150,150,3),\n",
        "#   weights='imagenet')\n",
        "\n",
        "# vgg16net.summary()\n",
        "# model = tf.keras.models.Sequential([\n",
        "#   ##tf.keras.Model(inputs=vgg16net.input, outputs=vgg16net.get_layer('block3_pool').output, name=\"vgg16\"),\n",
        "#   layers.Flatten(input_dim = 6),\n",
        "#   layers.Dense(512, activation='relu'),\n",
        "#   layers.Dense(256, activation='relu'),\n",
        "#   layers.Dense(128, activation='relu'),\n",
        "#   layers.Dense(1, activation='sigmoid')                        \n",
        "# ])\n",
        "# #model.get_layer(\"vgg16\").trainable=False\n",
        "# model.summary()\n",
        "     \n",
        "\n",
        "# model.compile(loss='binary_crossentropy',\n",
        "#               optimizer=tf.keras.optimizers.RMSprop(learning_rate=1e-5),\n",
        "#               metrics=['accuracy'])\n",
        "\n",
        "# callbacks = [tf.keras.callbacks.EarlyStopping(monitor='val_accuracy', mode='max', patience=20,  restore_best_weights=True),\n",
        "#              tf.keras.callbacks.ModelCheckpoint('models/vgg_mc_64_3.h5', monitor='val_accuracy', mode='max',\n",
        "#                                                 save_best_only=True)]\n",
        "# BATCH_SIZE = 32                                                \n",
        "# # history = model.fit(\n",
        "# #       training_set,\n",
        "# #       epochs=100,\n",
        "# #       callbacks = callbacks,\n",
        "# #       shuffle=False,\n",
        "# #       verbose=1,\n",
        "# #       validation_data=target,\n",
        "# #       batch_size=BATCH_SIZE)\n",
        "# model.fit(X_train, y_train, batch_size = 32, epochs = 100)"
      ],
      "metadata": {
        "id": "VRbEZ7-yJu-X"
      },
      "execution_count": 346,
      "outputs": []
    }
  ]
}